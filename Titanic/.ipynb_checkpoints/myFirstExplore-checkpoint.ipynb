{
 "metadata": {
  "name": ""
 },
 "nbformat": 3,
 "nbformat_minor": 0,
 "worksheets": [
  {
   "cells": [
    {
     "cell_type": "code",
     "collapsed": false,
     "input": [
      "import numpy as np\n",
      "import pandas as pd\n",
      "import matplotlib.pyplot as plt\n",
      "from pandas.tools.plotting import scatter_matrix\n",
      "from sklearn import svm, grid_search\n",
      "from itertools import chain"
     ],
     "language": "python",
     "metadata": {},
     "outputs": [],
     "prompt_number": 166
    },
    {
     "cell_type": "code",
     "collapsed": false,
     "input": [
      "#Since there are lots of data missing, so I just use pandas to read in data\n",
      "#also, I set the PassengerId column as the index\n",
      "df = pd.read_csv('./data/train.csv', index_col = 0)\n",
      "\n",
      "#Quickly have a look of the data\n",
      "df.head(10)"
     ],
     "language": "python",
     "metadata": {},
     "outputs": [
      {
       "html": [
        "<div style=\"max-height:1000px;max-width:1500px;overflow:auto;\">\n",
        "<table border=\"1\" class=\"dataframe\">\n",
        "  <thead>\n",
        "    <tr style=\"text-align: right;\">\n",
        "      <th></th>\n",
        "      <th>Survived</th>\n",
        "      <th>Pclass</th>\n",
        "      <th>Name</th>\n",
        "      <th>Sex</th>\n",
        "      <th>Age</th>\n",
        "      <th>SibSp</th>\n",
        "      <th>Parch</th>\n",
        "      <th>Ticket</th>\n",
        "      <th>Fare</th>\n",
        "      <th>Cabin</th>\n",
        "      <th>Embarked</th>\n",
        "    </tr>\n",
        "    <tr>\n",
        "      <th>PassengerId</th>\n",
        "      <th></th>\n",
        "      <th></th>\n",
        "      <th></th>\n",
        "      <th></th>\n",
        "      <th></th>\n",
        "      <th></th>\n",
        "      <th></th>\n",
        "      <th></th>\n",
        "      <th></th>\n",
        "      <th></th>\n",
        "      <th></th>\n",
        "    </tr>\n",
        "  </thead>\n",
        "  <tbody>\n",
        "    <tr>\n",
        "      <th>1 </th>\n",
        "      <td> 0</td>\n",
        "      <td> 3</td>\n",
        "      <td>                           Braund, Mr. Owen Harris</td>\n",
        "      <td>   male</td>\n",
        "      <td> 22</td>\n",
        "      <td> 1</td>\n",
        "      <td> 0</td>\n",
        "      <td>        A/5 21171</td>\n",
        "      <td>  7.2500</td>\n",
        "      <td>  NaN</td>\n",
        "      <td> S</td>\n",
        "    </tr>\n",
        "    <tr>\n",
        "      <th>2 </th>\n",
        "      <td> 1</td>\n",
        "      <td> 1</td>\n",
        "      <td> Cumings, Mrs. John Bradley (Florence Briggs Th...</td>\n",
        "      <td> female</td>\n",
        "      <td> 38</td>\n",
        "      <td> 1</td>\n",
        "      <td> 0</td>\n",
        "      <td>         PC 17599</td>\n",
        "      <td> 71.2833</td>\n",
        "      <td>  C85</td>\n",
        "      <td> C</td>\n",
        "    </tr>\n",
        "    <tr>\n",
        "      <th>3 </th>\n",
        "      <td> 1</td>\n",
        "      <td> 3</td>\n",
        "      <td>                            Heikkinen, Miss. Laina</td>\n",
        "      <td> female</td>\n",
        "      <td> 26</td>\n",
        "      <td> 0</td>\n",
        "      <td> 0</td>\n",
        "      <td> STON/O2. 3101282</td>\n",
        "      <td>  7.9250</td>\n",
        "      <td>  NaN</td>\n",
        "      <td> S</td>\n",
        "    </tr>\n",
        "    <tr>\n",
        "      <th>4 </th>\n",
        "      <td> 1</td>\n",
        "      <td> 1</td>\n",
        "      <td>      Futrelle, Mrs. Jacques Heath (Lily May Peel)</td>\n",
        "      <td> female</td>\n",
        "      <td> 35</td>\n",
        "      <td> 1</td>\n",
        "      <td> 0</td>\n",
        "      <td>           113803</td>\n",
        "      <td> 53.1000</td>\n",
        "      <td> C123</td>\n",
        "      <td> S</td>\n",
        "    </tr>\n",
        "    <tr>\n",
        "      <th>5 </th>\n",
        "      <td> 0</td>\n",
        "      <td> 3</td>\n",
        "      <td>                          Allen, Mr. William Henry</td>\n",
        "      <td>   male</td>\n",
        "      <td> 35</td>\n",
        "      <td> 0</td>\n",
        "      <td> 0</td>\n",
        "      <td>           373450</td>\n",
        "      <td>  8.0500</td>\n",
        "      <td>  NaN</td>\n",
        "      <td> S</td>\n",
        "    </tr>\n",
        "    <tr>\n",
        "      <th>6 </th>\n",
        "      <td> 0</td>\n",
        "      <td> 3</td>\n",
        "      <td>                                  Moran, Mr. James</td>\n",
        "      <td>   male</td>\n",
        "      <td>NaN</td>\n",
        "      <td> 0</td>\n",
        "      <td> 0</td>\n",
        "      <td>           330877</td>\n",
        "      <td>  8.4583</td>\n",
        "      <td>  NaN</td>\n",
        "      <td> Q</td>\n",
        "    </tr>\n",
        "    <tr>\n",
        "      <th>7 </th>\n",
        "      <td> 0</td>\n",
        "      <td> 1</td>\n",
        "      <td>                           McCarthy, Mr. Timothy J</td>\n",
        "      <td>   male</td>\n",
        "      <td> 54</td>\n",
        "      <td> 0</td>\n",
        "      <td> 0</td>\n",
        "      <td>            17463</td>\n",
        "      <td> 51.8625</td>\n",
        "      <td>  E46</td>\n",
        "      <td> S</td>\n",
        "    </tr>\n",
        "    <tr>\n",
        "      <th>8 </th>\n",
        "      <td> 0</td>\n",
        "      <td> 3</td>\n",
        "      <td>                    Palsson, Master. Gosta Leonard</td>\n",
        "      <td>   male</td>\n",
        "      <td>  2</td>\n",
        "      <td> 3</td>\n",
        "      <td> 1</td>\n",
        "      <td>           349909</td>\n",
        "      <td> 21.0750</td>\n",
        "      <td>  NaN</td>\n",
        "      <td> S</td>\n",
        "    </tr>\n",
        "    <tr>\n",
        "      <th>9 </th>\n",
        "      <td> 1</td>\n",
        "      <td> 3</td>\n",
        "      <td> Johnson, Mrs. Oscar W (Elisabeth Vilhelmina Berg)</td>\n",
        "      <td> female</td>\n",
        "      <td> 27</td>\n",
        "      <td> 0</td>\n",
        "      <td> 2</td>\n",
        "      <td>           347742</td>\n",
        "      <td> 11.1333</td>\n",
        "      <td>  NaN</td>\n",
        "      <td> S</td>\n",
        "    </tr>\n",
        "    <tr>\n",
        "      <th>10</th>\n",
        "      <td> 1</td>\n",
        "      <td> 2</td>\n",
        "      <td>               Nasser, Mrs. Nicholas (Adele Achem)</td>\n",
        "      <td> female</td>\n",
        "      <td> 14</td>\n",
        "      <td> 1</td>\n",
        "      <td> 0</td>\n",
        "      <td>           237736</td>\n",
        "      <td> 30.0708</td>\n",
        "      <td>  NaN</td>\n",
        "      <td> C</td>\n",
        "    </tr>\n",
        "  </tbody>\n",
        "</table>\n",
        "<p>10 rows \u00d7 11 columns</p>\n",
        "</div>"
       ],
       "metadata": {},
       "output_type": "pyout",
       "prompt_number": 2,
       "text": [
        "             Survived  Pclass  \\\n",
        "PassengerId                     \n",
        "1                   0       3   \n",
        "2                   1       1   \n",
        "3                   1       3   \n",
        "4                   1       1   \n",
        "5                   0       3   \n",
        "6                   0       3   \n",
        "7                   0       1   \n",
        "8                   0       3   \n",
        "9                   1       3   \n",
        "10                  1       2   \n",
        "\n",
        "                                                          Name     Sex  Age  \\\n",
        "PassengerId                                                                   \n",
        "1                                      Braund, Mr. Owen Harris    male   22   \n",
        "2            Cumings, Mrs. John Bradley (Florence Briggs Th...  female   38   \n",
        "3                                       Heikkinen, Miss. Laina  female   26   \n",
        "4                 Futrelle, Mrs. Jacques Heath (Lily May Peel)  female   35   \n",
        "5                                     Allen, Mr. William Henry    male   35   \n",
        "6                                             Moran, Mr. James    male  NaN   \n",
        "7                                      McCarthy, Mr. Timothy J    male   54   \n",
        "8                               Palsson, Master. Gosta Leonard    male    2   \n",
        "9            Johnson, Mrs. Oscar W (Elisabeth Vilhelmina Berg)  female   27   \n",
        "10                         Nasser, Mrs. Nicholas (Adele Achem)  female   14   \n",
        "\n",
        "             SibSp  Parch            Ticket     Fare Cabin Embarked  \n",
        "PassengerId                                                          \n",
        "1                1      0         A/5 21171   7.2500   NaN        S  \n",
        "2                1      0          PC 17599  71.2833   C85        C  \n",
        "3                0      0  STON/O2. 3101282   7.9250   NaN        S  \n",
        "4                1      0            113803  53.1000  C123        S  \n",
        "5                0      0            373450   8.0500   NaN        S  \n",
        "6                0      0            330877   8.4583   NaN        Q  \n",
        "7                0      0             17463  51.8625   E46        S  \n",
        "8                3      1            349909  21.0750   NaN        S  \n",
        "9                0      2            347742  11.1333   NaN        S  \n",
        "10               1      0            237736  30.0708   NaN        C  \n",
        "\n",
        "[10 rows x 11 columns]"
       ]
      }
     ],
     "prompt_number": 2
    },
    {
     "cell_type": "code",
     "collapsed": false,
     "input": [
      "#Count how many valid data we have for each of the field\n",
      "df.count()"
     ],
     "language": "python",
     "metadata": {},
     "outputs": [
      {
       "metadata": {},
       "output_type": "pyout",
       "prompt_number": 88,
       "text": [
        "Survived    891\n",
        "Pclass      891\n",
        "Name        891\n",
        "Sex         891\n",
        "Age         714\n",
        "SibSp       891\n",
        "Parch       891\n",
        "Ticket      891\n",
        "Fare        891\n",
        "Cabin       204\n",
        "Embarked    889\n",
        "dtype: int64"
       ]
      }
     ],
     "prompt_number": 88
    },
    {
     "cell_type": "code",
     "collapsed": false,
     "input": [],
     "language": "python",
     "metadata": {},
     "outputs": []
    },
    {
     "cell_type": "markdown",
     "metadata": {},
     "source": [
      "###First think about the data, in my opinion, Pclass, Sex, Age, Fare are the most important field, and then SibSp, Parch, and Embarked are in the second group. I don't think Name has a important effect on the survive rate (maybe some names more likely to survive), and Cabin could be useful, but due to the largest missing data, so let's drop it. "
     ]
    },
    {
     "cell_type": "code",
     "collapsed": false,
     "input": [
      "#let's first clean data\n",
      "df = df.drop(['Ticket','Cabin'], axis=1)\n",
      "# Remove NaN values\n",
      "df = df.dropna() "
     ],
     "language": "python",
     "metadata": {},
     "outputs": [],
     "prompt_number": 8
    },
    {
     "cell_type": "markdown",
     "metadata": {},
     "source": [
      "###Let's first plot some data to have a look"
     ]
    },
    {
     "cell_type": "code",
     "collapsed": false,
     "input": [
      "# plot the histogram to show how many female survived and how many males survived\n",
      "# this method to plot seems not correct, because it is not stack but just superimpose \n",
      "fig = plt.figure(figsize=(8,6))\n",
      "\n",
      "ax1 = fig.add_subplot(111)\n",
      "df.Survived[df.Sex == 'male'].value_counts().plot(kind='bar',label='Male', alpha = 1)\n",
      "df.Survived[df.Sex == 'female'].value_counts().plot(kind='bar', color='#FA2379',label='Female', alpha = 0.4)\n",
      "ax1.set_xlim(0, 2.25) \n",
      "plt.title(\"Number of survivals with respect to gender\")\n",
      "plt.legend(loc='best')\n",
      "plt.show()"
     ],
     "language": "python",
     "metadata": {},
     "outputs": [],
     "prompt_number": 154
    },
    {
     "cell_type": "code",
     "collapsed": false,
     "input": [
      "#plot the classes vs age\n",
      "fig = plt.figure(figsize=(8,6))\n",
      "\n",
      "ax1 = fig.add_subplot(111)\n",
      "df.Age[df.Pclass == 1].plot(kind='kde',label='First Class', alpha = 1)\n",
      "df.Age[df.Pclass == 2].plot(kind='kde',label='Second Class', alpha = 1)\n",
      "df.Age[df.Pclass == 3].plot(kind='kde',label='Third Class', alpha = 1)\n",
      "\n",
      "plt.title(\"Classes vs Age\")\n",
      "plt.xlabel('Age', fontsize = 16)\n",
      "plt.ylabel('Density', fontsize = 16)\n",
      "plt.legend(loc='best')\n",
      "plt.show()"
     ],
     "language": "python",
     "metadata": {},
     "outputs": [],
     "prompt_number": 9
    },
    {
     "cell_type": "code",
     "collapsed": false,
     "input": [
      "pd.crosstab(df.Pclass, df.Survived.astype(bool)).plot(kind='bar')\n",
      "plt.title('Passenger class vs survived')\n",
      "plt.xlabel('Passenger Class')\n",
      "plt.ylabel('Frequency')\n",
      "plt.show()"
     ],
     "language": "python",
     "metadata": {},
     "outputs": [],
     "prompt_number": 185
    },
    {
     "cell_type": "code",
     "collapsed": false,
     "input": [
      "death_counts = pd.crosstab([df.Pclass, df.Sex], df.Survived.astype(bool))\n",
      "death_counts.plot(kind='bar', stacked=True, color=['red','green'], grid=False)\n",
      "plt.xlabel('Class, Gender')\n",
      "plt.ylabel('Percentage')\n",
      "plt.show()"
     ],
     "language": "python",
     "metadata": {},
     "outputs": [],
     "prompt_number": 188
    },
    {
     "cell_type": "code",
     "collapsed": false,
     "input": [
      "gender_survive = pd.crosstab(df.Sex, df.Survived.astype(bool))\n",
      "gender_survive.div(gender_survive.sum(1).astype(float), axis=0).plot(kind='bar', stacked=True)\n",
      "plt.title('Survive percentage by gender')\n",
      "plt.xlabel('Gender')\n",
      "plt.ylabel('Percentage')\n",
      "plt.show()"
     ],
     "language": "python",
     "metadata": {},
     "outputs": [],
     "prompt_number": 181
    },
    {
     "cell_type": "code",
     "collapsed": false,
     "input": [
      "age_survive = pd.crosstab(df.Age, df.Survived.astype(bool))\n",
      "age_survive.div(age_survive.sum(1).astype(float), axis=0).plot(kind='bar', stacked=True)\n",
      "plt.title('Survive percentage by Age')\n",
      "plt.xlabel('Age')\n",
      "plt.ylabel('Percentage')\n",
      "plt.show()"
     ],
     "language": "python",
     "metadata": {},
     "outputs": [],
     "prompt_number": 189
    },
    {
     "cell_type": "code",
     "collapsed": false,
     "input": [],
     "language": "python",
     "metadata": {},
     "outputs": [],
     "prompt_number": 202
    },
    {
     "cell_type": "code",
     "collapsed": false,
     "input": [],
     "language": "python",
     "metadata": {},
     "outputs": [],
     "prompt_number": 205
    },
    {
     "cell_type": "markdown",
     "metadata": {},
     "source": [
      "##Let's first try a logistic regression model"
     ]
    },
    {
     "cell_type": "code",
     "collapsed": false,
     "input": [
      "df.count()"
     ],
     "language": "python",
     "metadata": {},
     "outputs": [
      {
       "metadata": {},
       "output_type": "pyout",
       "prompt_number": 10,
       "text": [
        "Survived    712\n",
        "Pclass      712\n",
        "Name        712\n",
        "Sex         712\n",
        "Age         712\n",
        "SibSp       712\n",
        "Parch       712\n",
        "Fare        712\n",
        "Embarked    712\n",
        "dtype: int64"
       ]
      }
     ],
     "prompt_number": 10
    },
    {
     "cell_type": "code",
     "collapsed": false,
     "input": [
      "#replace female and male with binary number, male 1, female 0\n",
      "df['Sex'] = df['Sex'].replace('female', 0)\n",
      "df['Sex'] = df['Sex'].replace('male',1)\n",
      "\n",
      "df['Embarked'] = df['Embarked'].replace('S', 0)\n",
      "df['Embarked'] = df['Embarked'].replace('C', 1)\n",
      "df['Embarked'] = df['Embarked'].replace('Q', 2)"
     ],
     "language": "python",
     "metadata": {},
     "outputs": [],
     "prompt_number": 33
    },
    {
     "cell_type": "code",
     "collapsed": false,
     "input": [
      "from sklearn.linear_model import LogisticRegression\n",
      "from sklearn import preprocessing\n",
      "from sklearn.cross_validation import train_test_split\n",
      "\n",
      "X_raw = df[['Pclass', 'Age', 'Fare', 'Sex', 'SibSp']].values\n",
      "y_raw = df[['Survived']].values\n",
      "\n",
      "#min_max_scaler = preprocessing.MinMaxScaler()\n",
      "#X_minmax = min_max_scaler.fit_transform(X_raw)\n",
      "\n",
      "X_train, X_test, y_train, y_test = train_test_split(X_raw, y_raw)\n"
     ],
     "language": "python",
     "metadata": {},
     "outputs": [],
     "prompt_number": 143
    },
    {
     "cell_type": "code",
     "collapsed": false,
     "input": [
      "clf = LogisticRegression()\n",
      "clf.fit(X_train, y_train).score(X_test, y_test)"
     ],
     "language": "python",
     "metadata": {},
     "outputs": [
      {
       "output_type": "stream",
       "stream": "stderr",
       "text": [
        "/usr/local/lib/python2.7/site-packages/sklearn/preprocessing/label.py:125: DataConversionWarning: A column-vector y was passed when a 1d array was expected. Please change the shape of y to (n_samples, ), for example using ravel().\n",
        "  y = column_or_1d(y, warn=True)\n"
       ]
      },
      {
       "metadata": {},
       "output_type": "pyout",
       "prompt_number": 144,
       "text": [
        "0.7752808988764045"
       ]
      }
     ],
     "prompt_number": 144
    },
    {
     "cell_type": "code",
     "collapsed": false,
     "input": [
      "##So we can see that a simple logistic regression model gives us ~75% accuracy"
     ],
     "language": "python",
     "metadata": {},
     "outputs": []
    },
    {
     "cell_type": "markdown",
     "metadata": {},
     "source": [
      "##Grid search logistic model"
     ]
    },
    {
     "cell_type": "code",
     "collapsed": false,
     "input": [
      "param_grid = {'C': [0.001, 0.01, 0.1, 1, 10, 100, 1000] }\n",
      "clf = grid_search.GridSearchCV(LogisticRegression(penalty='l1'), param_grid, verbose = 3)\n",
      "\n",
      "#the grid search expect y to be 1d, so we need to flatten the list\n",
      "y = list(chain.from_iterable(y_raw))\n",
      "clf.fit(X_raw, y)"
     ],
     "language": "python",
     "metadata": {},
     "outputs": [
      {
       "output_type": "stream",
       "stream": "stdout",
       "text": [
        "Fitting 3 folds for each of 7 candidates, totalling 21 fits\n",
        "[CV] C=0.001 .........................................................\n",
        "[CV] ................................ C=0.001, score=0.596639 -   0.0s\n",
        "[CV] C=0.001 .........................................................\n",
        "[CV] ................................ C=0.001, score=0.594937 -   0.0s\n",
        "[CV] C=0.001 .........................................................\n",
        "[CV] ................................ C=0.001, score=0.594937 -   0.0s\n",
        "[CV] C=0.01 ..........................................................\n",
        "[CV] ................................. C=0.01, score=0.596639 -   0.0s\n",
        "[CV] C=0.01 ..........................................................\n",
        "[CV] ................................. C=0.01, score=0.594937 -   0.0s\n",
        "[CV] C=0.01 ..........................................................\n",
        "[CV] ................................. C=0.01, score=0.594937 -   0.0s\n",
        "[CV] C=0.1 ...........................................................\n",
        "[CV] .................................. C=0.1, score=0.794118 -   0.0s\n",
        "[CV] C=0.1 ...........................................................\n",
        "[CV] .................................. C=0.1, score=0.780591 -   0.0s\n",
        "[CV] C=0.1 ...........................................................\n",
        "[CV] .................................. C=0.1, score=0.763713 -   0.0s\n",
        "[CV] C=1 .............................................................\n",
        "[CV] .................................... C=1, score=0.794118 -   0.0s\n",
        "[CV] C=1 .............................................................\n",
        "[CV] .................................... C=1, score=0.805907 -   0.0s\n",
        "[CV] C=1 .............................................................\n",
        "[CV] .................................... C=1, score=0.784810 -   0.0s\n",
        "[CV] C=10 ............................................................\n",
        "[CV] ................................... C=10, score=0.798319 -   0.0s\n",
        "[CV] C=10 ............................................................\n",
        "[CV] ................................... C=10, score=0.810127 -   0.0s\n",
        "[CV] C=10 ............................................................\n",
        "[CV] ................................... C=10, score=0.789030 -   0.0s\n",
        "[CV] C=100 ...........................................................\n",
        "[CV] .................................. C=100, score=0.798319 -   0.0s\n",
        "[CV] C=100 ...........................................................\n",
        "[CV] .................................. C=100, score=0.805907 -   0.0s\n",
        "[CV] C=100 ..........................................................."
       ]
      },
      {
       "output_type": "stream",
       "stream": "stderr",
       "text": [
        "[Parallel(n_jobs=1)]: Done   1 jobs       | elapsed:    0.0s\n",
        "[Parallel(n_jobs=1)]: Done  21 out of  21 | elapsed:    0.1s finished\n"
       ]
      },
      {
       "output_type": "stream",
       "stream": "stdout",
       "text": [
        "\n",
        "[CV] .................................. C=100, score=0.789030 -   0.0s\n",
        "[CV] C=1000 ..........................................................\n",
        "[CV] ................................. C=1000, score=0.798319 -   0.0s\n",
        "[CV] C=1000 ..........................................................\n",
        "[CV] ................................. C=1000, score=0.805907 -   0.0s\n",
        "[CV] C=1000 ..........................................................\n",
        "[CV] ................................. C=1000, score=0.789030 -   0.0s\n"
       ]
      },
      {
       "metadata": {},
       "output_type": "pyout",
       "prompt_number": 169,
       "text": [
        "GridSearchCV(cv=None,\n",
        "       estimator=LogisticRegression(C=1.0, class_weight=None, dual=False, fit_intercept=True,\n",
        "          intercept_scaling=1, penalty='l1', random_state=None, tol=0.0001),\n",
        "       fit_params={}, iid=True, loss_func=None, n_jobs=1,\n",
        "       param_grid={'C': [0.001, 0.01, 0.1, 1, 10, 100, 1000]},\n",
        "       pre_dispatch='2*n_jobs', refit=True, score_func=None, scoring=None,\n",
        "       verbose=3)"
       ]
      }
     ],
     "prompt_number": 169
    },
    {
     "cell_type": "code",
     "collapsed": false,
     "input": [],
     "language": "python",
     "metadata": {},
     "outputs": []
    },
    {
     "cell_type": "code",
     "collapsed": false,
     "input": [],
     "language": "python",
     "metadata": {},
     "outputs": []
    },
    {
     "cell_type": "code",
     "collapsed": false,
     "input": [
      "import sklearn.ensemble as ske\n",
      "\n",
      "#instantiate and fit our model\n",
      "results_rf = ske.RandomForestClassifier(n_estimators=100).fit(X_train, y_train)\n",
      "\n",
      "# Score the results\n",
      "score = results_rf.score(X_test, y_test)\n",
      "print \"Mean accuracy of Random Forest Predictions on the data was: {0}\".format(score)"
     ],
     "language": "python",
     "metadata": {},
     "outputs": [
      {
       "output_type": "stream",
       "stream": "stdout",
       "text": [
        "Mean accuracy of Random Forest Predictions on the data was: 0.814606741573\n"
       ]
      },
      {
       "output_type": "stream",
       "stream": "stderr",
       "text": [
        "-c:4: DataConversionWarning: A column-vector y was passed when a 1d array was expected. Please change the shape of y to (n_samples, ), for example using ravel().\n"
       ]
      }
     ],
     "prompt_number": 111
    },
    {
     "cell_type": "code",
     "collapsed": false,
     "input": [],
     "language": "python",
     "metadata": {},
     "outputs": []
    },
    {
     "cell_type": "code",
     "collapsed": false,
     "input": [],
     "language": "python",
     "metadata": {},
     "outputs": []
    },
    {
     "cell_type": "code",
     "collapsed": false,
     "input": [],
     "language": "python",
     "metadata": {},
     "outputs": []
    },
    {
     "cell_type": "code",
     "collapsed": false,
     "input": [
      "#replace female and male with binary number, male 1, female 0\n",
      "df['Sex'] = df['Sex'].replace('female', 0)\n",
      "df['Sex'] = df['Sex'].replace('male',1)"
     ],
     "language": "python",
     "metadata": {},
     "outputs": [],
     "prompt_number": 80
    },
    {
     "cell_type": "code",
     "collapsed": false,
     "input": [
      "#quick look of the data distribution of some field\n",
      "df.hist(column = ['Survived', 'Pclass', 'Sex', 'Age', 'SibSp', 'Parch', 'Fare', 'Embarked'], )\n",
      "plt.show()"
     ],
     "language": "python",
     "metadata": {},
     "outputs": [],
     "prompt_number": 82
    },
    {
     "cell_type": "code",
     "collapsed": false,
     "input": [],
     "language": "python",
     "metadata": {},
     "outputs": []
    },
    {
     "cell_type": "code",
     "collapsed": false,
     "input": [],
     "language": "python",
     "metadata": {},
     "outputs": []
    },
    {
     "cell_type": "code",
     "collapsed": false,
     "input": [
      "from sklearn import svm, grid_search, datasets\n",
      "iris = datasets.load_iris()\n"
     ],
     "language": "python",
     "metadata": {},
     "outputs": [],
     "prompt_number": 157
    },
    {
     "cell_type": "code",
     "collapsed": false,
     "input": [],
     "language": "python",
     "metadata": {},
     "outputs": []
    }
   ],
   "metadata": {}
  }
 ]
}