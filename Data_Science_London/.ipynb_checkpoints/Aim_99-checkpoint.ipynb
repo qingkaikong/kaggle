{
 "metadata": {
  "name": ""
 },
 "nbformat": 3,
 "nbformat_minor": 0,
 "worksheets": [
  {
   "cells": [
    {
     "cell_type": "code",
     "collapsed": false,
     "input": [
      "from numpy import genfromtxt\n",
      "import numpy as np\n",
      "import matplotlib.pyplot as plt"
     ],
     "language": "python",
     "metadata": {},
     "outputs": [],
     "prompt_number": 1
    },
    {
     "cell_type": "code",
     "collapsed": false,
     "input": [
      "def load_data(filename):\n",
      "    \"\"\" Load CSV into numpy array \"\"\"\n",
      "    return np.genfromtxt(open(filename,'rb'), delimiter=',')"
     ],
     "language": "python",
     "metadata": {},
     "outputs": [],
     "prompt_number": 2
    },
    {
     "cell_type": "code",
     "collapsed": false,
     "input": [
      "X = load_data('./data/train.csv')\n",
      "y = load_data('./data/trainLabels.csv')\n",
      "test = load_data('./data/test.csv')"
     ],
     "language": "python",
     "metadata": {},
     "outputs": [],
     "prompt_number": 3
    },
    {
     "cell_type": "markdown",
     "metadata": {},
     "source": [
      "##First try to see the 2 main components of the data"
     ]
    },
    {
     "cell_type": "code",
     "collapsed": false,
     "input": [
      "from sklearn.decomposition import PCA"
     ],
     "language": "python",
     "metadata": {},
     "outputs": [],
     "prompt_number": 4
    },
    {
     "cell_type": "code",
     "collapsed": false,
     "input": [
      "pca2 = PCA(n_components=2, whiten=True)\n",
      "pca2.fit(np.r_[X, test])\n",
      "X_pca = pca2.transform(X)\n",
      "i0 = np.argwhere(y == 0)[:, 0]\n",
      "i1 = np.argwhere(y == 1)[:, 0]\n",
      "X0 = X_pca[i0, :]\n",
      "X1 = X_pca[i1, :]\n",
      "plt.plot(X0[:, 0], X0[:, 1], 'ro')\n",
      "plt.plot(X1[:, 0], X1[:, 1], 'b*')\n",
      "plt.show()"
     ],
     "language": "python",
     "metadata": {},
     "outputs": [
      {
       "metadata": {},
       "output_type": "pyout",
       "prompt_number": 10,
       "text": [
        "[<matplotlib.lines.Line2D at 0x1111a9390>]"
       ]
      }
     ],
     "prompt_number": 10
    },
    {
     "cell_type": "markdown",
     "metadata": {},
     "source": [
      "##Let's see each feature explained how much variance"
     ]
    },
    {
     "cell_type": "code",
     "collapsed": false,
     "input": [
      "pca = PCA(whiten=True)\n",
      "X_all = pca.fit_transform(np.r_[X, test])\n",
      "print pca.explained_variance_ratio_"
     ],
     "language": "python",
     "metadata": {},
     "outputs": [
      {
       "output_type": "stream",
       "stream": "stdout",
       "text": [
        "[  2.61338893e-01   2.03953972e-01   7.91104009e-02   4.81480076e-02\n",
        "   4.54167442e-02   4.42563499e-02   4.04285747e-02   3.03524876e-02\n",
        "   2.35202947e-02   1.92164610e-02   1.61483800e-02   1.25565492e-02\n",
        "   7.65669101e-03   7.59267345e-03   7.57067587e-03   7.45196972e-03\n",
        "   7.39437803e-03   7.33602203e-03   7.32154020e-03   7.26446366e-03\n",
        "   7.24687802e-03   7.13785979e-03   7.08554112e-03   7.05759361e-03\n",
        "   7.01144882e-03   6.98357997e-03   6.90865448e-03   6.88494883e-03\n",
        "   6.84557325e-03   6.83367011e-03   6.74339150e-03   6.70112785e-03\n",
        "   6.63533428e-03   6.57374179e-03   6.49188079e-03   6.46379503e-03\n",
        "   6.35945185e-03   2.11189295e-31   3.63031139e-32   1.43643870e-32]\n"
       ]
      }
     ],
     "prompt_number": 13
    },
    {
     "cell_type": "code",
     "collapsed": false,
     "input": [
      "plt.plot(pca.explained_variance_ratio_)\n",
      "plt.show()"
     ],
     "language": "python",
     "metadata": {},
     "outputs": [],
     "prompt_number": 14
    },
    {
     "cell_type": "code",
     "collapsed": false,
     "input": [
      "##We can see from the above features, that the first 12 components explained most of the variance"
     ],
     "language": "python",
     "metadata": {},
     "outputs": [],
     "prompt_number": 15
    },
    {
     "cell_type": "markdown",
     "metadata": {},
     "source": [
      "##Now let's plot the KDE and QQ plots"
     ]
    },
    {
     "cell_type": "code",
     "collapsed": false,
     "input": [
      "def kde_plot(x):\n",
      "        from scipy.stats.kde import gaussian_kde\n",
      "        kde = gaussian_kde(x)\n",
      "        positions = np.linspace(x.min(), x.max())\n",
      "        smoothed = kde(positions)\n",
      "        plt.plot(positions, smoothed)\n",
      "        plt.show()\n",
      "\n",
      "def qq_plot(x):\n",
      "    from scipy.stats import probplot\n",
      "    probplot(x, dist='norm', plot=plt)\n",
      "    plt.show()"
     ],
     "language": "python",
     "metadata": {},
     "outputs": [],
     "prompt_number": 32
    },
    {
     "cell_type": "code",
     "collapsed": false,
     "input": [
      "kde_plot(X_all[:, 7])"
     ],
     "language": "python",
     "metadata": {},
     "outputs": [],
     "prompt_number": 24
    },
    {
     "cell_type": "code",
     "collapsed": false,
     "input": [
      "kde_plot(X_all[:, 23])"
     ],
     "language": "python",
     "metadata": {},
     "outputs": [],
     "prompt_number": 25
    },
    {
     "cell_type": "code",
     "collapsed": false,
     "input": [
      "kde_plot(X_all[:, 39])"
     ],
     "language": "python",
     "metadata": {},
     "outputs": [],
     "prompt_number": 30
    },
    {
     "cell_type": "markdown",
     "metadata": {},
     "source": [
      "##It does look like the features come from gaussian distribution. And then plot the QQ plot. In statistics, a Q\u2013Q plot (\"Q\" stands for quantile) is a probability plot, which is a graphical method for comparing two probability distributions by plotting their quantiles against each other"
     ]
    },
    {
     "cell_type": "code",
     "collapsed": false,
     "input": [
      "qq_plot(X[:,7])"
     ],
     "language": "python",
     "metadata": {},
     "outputs": [],
     "prompt_number": 33
    },
    {
     "cell_type": "code",
     "collapsed": false,
     "input": [
      "qq_plot(X[:,23])"
     ],
     "language": "python",
     "metadata": {},
     "outputs": [],
     "prompt_number": 34
    },
    {
     "cell_type": "code",
     "collapsed": false,
     "input": [
      "qq_plot(X[:,39])"
     ],
     "language": "python",
     "metadata": {},
     "outputs": [],
     "prompt_number": 35
    },
    {
     "cell_type": "markdown",
     "metadata": {},
     "source": [
      "##Use Gaussian mixture model to model the data"
     ]
    },
    {
     "cell_type": "code",
     "collapsed": false,
     "input": [
      "#You can see from the explained_variance plot, 12 is the best number to use\n",
      "pca_components = 12\n",
      "X_ = X_all[:, :pca_components]"
     ],
     "language": "python",
     "metadata": {},
     "outputs": []
    },
    {
     "cell_type": "code",
     "collapsed": false,
     "input": [],
     "language": "python",
     "metadata": {},
     "outputs": []
    },
    {
     "cell_type": "code",
     "collapsed": false,
     "input": [],
     "language": "python",
     "metadata": {},
     "outputs": []
    },
    {
     "cell_type": "code",
     "collapsed": false,
     "input": [],
     "language": "python",
     "metadata": {},
     "outputs": []
    },
    {
     "cell_type": "code",
     "collapsed": false,
     "input": [],
     "language": "python",
     "metadata": {},
     "outputs": []
    },
    {
     "cell_type": "code",
     "collapsed": false,
     "input": [],
     "language": "python",
     "metadata": {},
     "outputs": []
    }
   ],
   "metadata": {}
  }
 ]
}