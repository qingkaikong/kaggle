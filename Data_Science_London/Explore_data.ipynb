{
 "metadata": {
  "name": ""
 },
 "nbformat": 3,
 "nbformat_minor": 0,
 "worksheets": [
  {
   "cells": [
    {
     "cell_type": "code",
     "collapsed": false,
     "input": [
      "from numpy import genfromtxt\n",
      "import numpy as np\n",
      "import matplotlib.pyplot as plt"
     ],
     "language": "python",
     "metadata": {},
     "outputs": [],
     "prompt_number": 1
    },
    {
     "cell_type": "markdown",
     "metadata": {},
     "source": [
      "###Read in training data and label"
     ]
    },
    {
     "cell_type": "code",
     "collapsed": false,
     "input": [
      "def load_data(filename):\n",
      "    \"\"\" Load CSV into numpy array \"\"\"\n",
      "    return np.genfromtxt(open(filename,'rb'), delimiter=',')\n",
      "\n",
      "def predict(clf, features):\n",
      "    \"\"\" Predict labels from trained CLF \"\"\"\n",
      "    return clf.predict(features).astype(np.int)\n",
      "\n",
      "def show_score(clf, X_test, y_test):\n",
      "    \"\"\" Scores are computed on the test set \"\"\"\n",
      "    y_pred = predict(clf, X_test)\n",
      "    print metrics.classification_report(y_test.astype(np.int), y_pred)\n"
     ],
     "language": "python",
     "metadata": {},
     "outputs": [],
     "prompt_number": 2
    },
    {
     "cell_type": "code",
     "collapsed": false,
     "input": [
      "X = load_data('./data/train.csv')\n",
      "y = load_data('./data/trainLabels.csv')\n",
      "test = load_data('./data/test.csv')"
     ],
     "language": "python",
     "metadata": {},
     "outputs": [],
     "prompt_number": 3
    },
    {
     "cell_type": "code",
     "collapsed": false,
     "input": [
      "print X.shape\n",
      "print y.shape\n",
      "print test.shape"
     ],
     "language": "python",
     "metadata": {},
     "outputs": [
      {
       "output_type": "stream",
       "stream": "stdout",
       "text": [
        "(1000, 40)\n",
        "(1000,)\n",
        "(9000, 40)\n"
       ]
      }
     ],
     "prompt_number": 4
    },
    {
     "cell_type": "markdown",
     "metadata": {},
     "source": [
      "###Plot the first two main features with label (using PCA to find the two important features)"
     ]
    },
    {
     "cell_type": "code",
     "collapsed": false,
     "input": [
      "from sklearn.decomposition import PCA"
     ],
     "language": "python",
     "metadata": {},
     "outputs": [],
     "prompt_number": 30
    },
    {
     "cell_type": "code",
     "collapsed": false,
     "input": [
      "pca = PCA(n_components=2)\n",
      "pca.fit(X)\n",
      "X_pca = pca.transform(X)\n",
      "X_pca.shape"
     ],
     "language": "python",
     "metadata": {},
     "outputs": [
      {
       "metadata": {},
       "output_type": "pyout",
       "prompt_number": 6,
       "text": [
        "(1000, 2)"
       ]
      }
     ],
     "prompt_number": 6
    },
    {
     "cell_type": "code",
     "collapsed": false,
     "input": [
      "plt.scatter(X_pca[:,0], X_pca[:,1], c = y, marker = 'o')\n",
      "plt.show()"
     ],
     "language": "python",
     "metadata": {},
     "outputs": [],
     "prompt_number": 8
    },
    {
     "cell_type": "code",
     "collapsed": false,
     "input": [
      "##Isomap\n",
      "from sklearn.manifold import Isomap"
     ],
     "language": "python",
     "metadata": {},
     "outputs": [],
     "prompt_number": 9
    },
    {
     "cell_type": "code",
     "collapsed": false,
     "input": [
      "isomap = Isomap(n_components=2, n_neighbors=20)\n",
      "isomap.fit(X)\n",
      "X_isomap = isomap.transform(X)"
     ],
     "language": "python",
     "metadata": {},
     "outputs": [],
     "prompt_number": 10
    },
    {
     "cell_type": "code",
     "collapsed": false,
     "input": [
      "plt.scatter(X_isomap[:,0], X_isomap[:,1], c = y, marker = 'o')\n",
      "plt.show()"
     ],
     "language": "python",
     "metadata": {},
     "outputs": [],
     "prompt_number": 12
    },
    {
     "cell_type": "markdown",
     "metadata": {},
     "source": [
      "###Try SVM with different kernel without pre-processing data"
     ]
    },
    {
     "cell_type": "code",
     "collapsed": false,
     "input": [
      "from sklearn import svm\n",
      "#from sklearn import metrics\n",
      "from sklearn.cross_validation import train_test_split"
     ],
     "language": "python",
     "metadata": {},
     "outputs": [],
     "prompt_number": 5
    },
    {
     "cell_type": "code",
     "collapsed": false,
     "input": [
      "def divid_data(X_, y_):\n",
      "    #randomly divide the data into train and test set, the test size is 10% of the whole dataset\n",
      "    X_train, X_test, y_train, y_test = train_test_split(X_, y_, test_size=0.1)\n",
      "    return X_train, y_train, X_test, y_test"
     ],
     "language": "python",
     "metadata": {},
     "outputs": [],
     "prompt_number": 1
    },
    {
     "cell_type": "code",
     "collapsed": false,
     "input": [
      "X_train, y_train, X_test, y_test = divid_data(X, y)\n",
      "\n",
      "# fit the model with different kernels\n",
      "for fig_num, kernel in enumerate(('linear', 'rbf', 'poly')):\n",
      "    clf = svm.SVC(kernel=kernel, gamma=10)\n",
      "    print('svm with ' + kernel + ' kernel score: %f' % clf.fit(X_train, y_train).score(X_test, y_test))\n"
     ],
     "language": "python",
     "metadata": {},
     "outputs": [
      {
       "ename": "NameError",
       "evalue": "name 'X' is not defined",
       "output_type": "pyerr",
       "traceback": [
        "\u001b[0;31m---------------------------------------------------------------------------\u001b[0m\n\u001b[0;31mNameError\u001b[0m                                 Traceback (most recent call last)",
        "\u001b[0;32m<ipython-input-2-2937ce2009ad>\u001b[0m in \u001b[0;36m<module>\u001b[0;34m()\u001b[0m\n\u001b[0;32m----> 1\u001b[0;31m \u001b[0mX_train\u001b[0m\u001b[0;34m,\u001b[0m \u001b[0my_train\u001b[0m\u001b[0;34m,\u001b[0m \u001b[0mX_test\u001b[0m\u001b[0;34m,\u001b[0m \u001b[0my_test\u001b[0m \u001b[0;34m=\u001b[0m \u001b[0mdivid_data\u001b[0m\u001b[0;34m(\u001b[0m\u001b[0mX\u001b[0m\u001b[0;34m,\u001b[0m \u001b[0my\u001b[0m\u001b[0;34m)\u001b[0m\u001b[0;34m\u001b[0m\u001b[0m\n\u001b[0m\u001b[1;32m      2\u001b[0m \u001b[0;34m\u001b[0m\u001b[0m\n\u001b[1;32m      3\u001b[0m \u001b[0;31m# fit the model with different kernels\u001b[0m\u001b[0;34m\u001b[0m\u001b[0;34m\u001b[0m\u001b[0m\n\u001b[1;32m      4\u001b[0m \u001b[0;32mfor\u001b[0m \u001b[0mfig_num\u001b[0m\u001b[0;34m,\u001b[0m \u001b[0mkernel\u001b[0m \u001b[0;32min\u001b[0m \u001b[0menumerate\u001b[0m\u001b[0;34m(\u001b[0m\u001b[0;34m(\u001b[0m\u001b[0;34m'linear'\u001b[0m\u001b[0;34m,\u001b[0m \u001b[0;34m'rbf'\u001b[0m\u001b[0;34m,\u001b[0m \u001b[0;34m'poly'\u001b[0m\u001b[0;34m)\u001b[0m\u001b[0;34m)\u001b[0m\u001b[0;34m:\u001b[0m\u001b[0;34m\u001b[0m\u001b[0m\n\u001b[1;32m      5\u001b[0m     \u001b[0mclf\u001b[0m \u001b[0;34m=\u001b[0m \u001b[0msvm\u001b[0m\u001b[0;34m.\u001b[0m\u001b[0mSVC\u001b[0m\u001b[0;34m(\u001b[0m\u001b[0mkernel\u001b[0m\u001b[0;34m=\u001b[0m\u001b[0mkernel\u001b[0m\u001b[0;34m,\u001b[0m \u001b[0mgamma\u001b[0m\u001b[0;34m=\u001b[0m\u001b[0;36m10\u001b[0m\u001b[0;34m)\u001b[0m\u001b[0;34m\u001b[0m\u001b[0m\n",
        "\u001b[0;31mNameError\u001b[0m: name 'X' is not defined"
       ]
      }
     ],
     "prompt_number": 2
    },
    {
     "cell_type": "markdown",
     "metadata": {},
     "source": [
      "###Now let's pre-process data "
     ]
    },
    {
     "cell_type": "markdown",
     "metadata": {},
     "source": [
      "#####Standarization (zero mean and unit variance)"
     ]
    },
    {
     "cell_type": "code",
     "collapsed": false,
     "input": [
      "#Standardization of datasets is a common requirement for many machine learning estimators\n",
      "#Scale the data to make it zero mean and unit standard deviation\n",
      "#######This seems not working quite as expected, the results actually is worse than the raw data\n",
      "from sklearn import preprocessing\n",
      "X_scaled = preprocessing.scale(X)\n",
      "\n",
      "X_train, y_train, X_test, y_test = divid_data(X_scaled, y)\n",
      "\n",
      "# fit the model with different kernels\n",
      "for fig_num, kernel in enumerate(('linear', 'rbf', 'poly')):\n",
      "    clf = svm.SVC(kernel=kernel, gamma=10)\n",
      "    print('svm with ' + kernel + ' kernel score: %f' % clf.fit(X_train, y_train).score(X_test, y_test))"
     ],
     "language": "python",
     "metadata": {},
     "outputs": [
      {
       "output_type": "stream",
       "stream": "stdout",
       "text": [
        "svm with linear kernel score: 0.820000\n",
        "svm with rbf kernel score: 0.550000"
       ]
      },
      {
       "output_type": "stream",
       "stream": "stdout",
       "text": [
        "\n",
        "svm with poly kernel score: 0.820000"
       ]
      },
      {
       "output_type": "stream",
       "stream": "stdout",
       "text": [
        "\n"
       ]
      }
     ],
     "prompt_number": 58
    },
    {
     "cell_type": "markdown",
     "metadata": {},
     "source": [
      "#####Scale data to [0,1]"
     ]
    },
    {
     "cell_type": "code",
     "collapsed": false,
     "input": [
      "#Now let's try to scale the data to [0,1], not working quite well too. \n",
      "min_max_scaler = preprocessing.MinMaxScaler()\n",
      "X_train_minmax = min_max_scaler.fit_transform(X)\n",
      "\n",
      "X_train, y_train, X_test, y_test = divid_data(X_train_minmax, y)\n",
      "\n",
      "# fit the model with different kernels\n",
      "for fig_num, kernel in enumerate(('linear', 'rbf', 'poly')):\n",
      "    clf = svm.SVC(kernel=kernel, gamma=10)\n",
      "    print('svm with ' + kernel + ' kernel score: %f' % clf.fit(X_train, y_train).score(X_test, y_test))"
     ],
     "language": "python",
     "metadata": {},
     "outputs": [
      {
       "output_type": "stream",
       "stream": "stdout",
       "text": [
        "svm with linear kernel score: 0.840000\n",
        "svm with rbf kernel score: 0.460000"
       ]
      },
      {
       "output_type": "stream",
       "stream": "stdout",
       "text": [
        "\n",
        "svm with poly kernel score: 0.860000"
       ]
      },
      {
       "output_type": "stream",
       "stream": "stdout",
       "text": [
        "\n"
       ]
      }
     ],
     "prompt_number": 60
    },
    {
     "cell_type": "markdown",
     "metadata": {},
     "source": [
      "#####Whitenning data using PCA"
     ]
    },
    {
     "cell_type": "code",
     "collapsed": false,
     "input": [
      "#It is sometimes not enough to center and scale the features independently, since a downstream model can \n",
      "#further make some assumption on the linear independence of the features.\n",
      "#To address this issue you can use sklearn.decomposition.PCA or sklearn.decomposition.RandomizedPCA \n",
      "#with whiten=True to further remove the linear correlation across features.\n",
      "\n",
      "def decomposition_pca(train, test):\n",
      "    \"\"\" Linear dimensionality reduction \"\"\"\n",
      "    pca = PCA(n_components=12, whiten=True)\n",
      "    train_pca = pca.fit_transform(train)\n",
      "    test_pca = pca.transform(test)\n",
      "    return train_pca, test_pca\n",
      "\n"
     ],
     "language": "python",
     "metadata": {},
     "outputs": [],
     "prompt_number": 28
    },
    {
     "cell_type": "code",
     "collapsed": false,
     "input": [
      "X_data, test_data = decomposition_pca(X, test)\n",
      "X_train, y_train, X_test, y_test = divid_data(X_data, y)\n",
      "\n",
      "# fit the model with different kernels\n",
      "for fig_num, kernel in enumerate(('linear', 'rbf', 'poly')):\n",
      "    clf = svm.SVC(kernel=kernel, gamma=10)\n",
      "    print('svm with ' + kernel + ' kernel score: %f' % clf.fit(X_train, y_train).score(X_test, y_test))"
     ],
     "language": "python",
     "metadata": {},
     "outputs": [
      {
       "output_type": "stream",
       "stream": "stdout",
       "text": [
        "svm with linear kernel score: 0.840000\n",
        "svm with rbf kernel score: 0.570000"
       ]
      },
      {
       "output_type": "stream",
       "stream": "stdout",
       "text": [
        "\n",
        "svm with poly kernel score: 0.840000"
       ]
      },
      {
       "output_type": "stream",
       "stream": "stdout",
       "text": [
        "\n"
       ]
      }
     ],
     "prompt_number": 64
    },
    {
     "cell_type": "markdown",
     "metadata": {},
     "source": [
      "###Scaling should certainly affect results, but it should improve them. However, the performance of an SVM is critically dependent on its C setting, which trades off the cost of misclassification on the training set vs. model simplicity, and which should be determined using e.g. grid search and nested cross-validation. The default settings are very rarely optimal for any given problem."
     ]
    },
    {
     "cell_type": "code",
     "collapsed": false,
     "input": [
      "#explaination of the gamma and C parameters setting\n",
      "'''\n",
      "http://scikit-learn.org/stable/auto_examples/svm/plot_rbf_parameters.html\n",
      "'''"
     ],
     "language": "python",
     "metadata": {},
     "outputs": [
      {
       "metadata": {},
       "output_type": "pyout",
       "prompt_number": 34,
       "text": [
        "'\\nhttp://scikit-learn.org/stable/auto_examples/svm/plot_rbf_parameters.html\\n'"
       ]
      }
     ],
     "prompt_number": 34
    },
    {
     "cell_type": "markdown",
     "metadata": {},
     "source": [
      "##let's measure performance of a model using cross-validation"
     ]
    },
    {
     "cell_type": "code",
     "collapsed": false,
     "input": [
      "from sklearn import cross_validation as cv\n"
     ],
     "language": "python",
     "metadata": {},
     "outputs": [],
     "prompt_number": 8
    },
    {
     "cell_type": "code",
     "collapsed": false,
     "input": [
      "X_train, y_train, X_test, y_test = divid_data(X, y)\n",
      "\n",
      "# fit the model with different kernels\n",
      "for fig_num, kernel in enumerate(('linear', 'rbf', 'poly')):\n",
      "    clf = svm.SVC(kernel=kernel, gamma=10)\n",
      "    scores = cv.cross_val_score(clf, X_train, y_train, cv=5)\n",
      "    print(\"svm with \" + kernel + \" kernel scores: %s mean: %f std: %f\" %(str(scores), np.mean(scores), np.std(scores)))\n",
      "    #print('svm with ' + kernel + ' kernel score: %f' % clf.fit(X_train, y_train).score(X_test, y_test))"
     ],
     "language": "python",
     "metadata": {},
     "outputs": [
      {
       "output_type": "stream",
       "stream": "stdout",
       "text": [
        "svm with linear kernel scores: [ 0.77777778  0.85555556  0.83888889  0.82777778  0.78333333] mean: 0.816667 std: 0.030832\n",
        "svm with rbf kernel scores: [ 0.51111111  0.51666667  0.51666667  0.51666667  0.51666667] mean: 0.515556 std: 0.002222"
       ]
      },
      {
       "output_type": "stream",
       "stream": "stdout",
       "text": [
        "\n",
        "svm with poly kernel scores: [ 0.85        0.88888889  0.86111111  0.83888889  0.87777778] mean: 0.863333 std: 0.018122"
       ]
      },
      {
       "output_type": "stream",
       "stream": "stdout",
       "text": [
        "\n"
       ]
      }
     ],
     "prompt_number": 9
    },
    {
     "cell_type": "markdown",
     "metadata": {},
     "source": [
      "##Let's use grid search method to find the best parameter for a poly kernel svm"
     ]
    },
    {
     "cell_type": "code",
     "collapsed": false,
     "input": [
      "from sklearn.grid_search import GridSearchCV "
     ],
     "language": "python",
     "metadata": {},
     "outputs": [],
     "prompt_number": 10
    },
    {
     "cell_type": "code",
     "collapsed": false,
     "input": [
      "param_grid = {'C': 10.0 ** np.arange(-1,7.5)}\n",
      "score = 'precision'\n",
      "svm_poly = svm.SVC(kernel='poly')\n",
      "cvk = cv.StratifiedKFold(y_train, k=5)\n",
      "grid_search = GridSearchCV(svm_poly, param_grid = param_grid, cv=cvk, scoring=score, verbose=3)"
     ],
     "language": "python",
     "metadata": {},
     "outputs": [
      {
       "output_type": "stream",
       "stream": "stderr",
       "text": [
        "/Library/Python/2.7/site-packages/sklearn/cross_validation.py:240: DeprecationWarning: The parameter k was renamed to n_folds and will be removed in 0.15.\n",
        "  \" removed in 0.15.\", DeprecationWarning)\n"
       ]
      }
     ],
     "prompt_number": 88
    },
    {
     "cell_type": "code",
     "collapsed": false,
     "input": [
      "grid_search.fit(X_train, y_train)"
     ],
     "language": "python",
     "metadata": {},
     "outputs": [
      {
       "output_type": "stream",
       "stream": "stdout",
       "text": [
        "Fitting 5 folds for each of 9 candidates, totalling 45 fits\n",
        "[GridSearchCV] C=0.1 ...........................................................\n",
        "[GridSearchCV] .................................. C=0.1, score=0.850000 -   0.0s\n",
        "[GridSearchCV] C=0.1 ...........................................................\n",
        "[GridSearchCV] .................................. C=0.1, score=0.864583 -   0.0s"
       ]
      },
      {
       "output_type": "stream",
       "stream": "stdout",
       "text": [
        "\n",
        "[GridSearchCV] C=0.1 ...........................................................\n",
        "[GridSearchCV] .................................. C=0.1, score=0.844660 -   0.0s\n",
        "[GridSearchCV] C=0.1 ...........................................................\n",
        "[GridSearchCV] .................................. C=0.1, score=0.905263 -   0.0s"
       ]
      },
      {
       "output_type": "stream",
       "stream": "stdout",
       "text": [
        "\n",
        "[GridSearchCV] C=0.1 ...........................................................\n",
        "[GridSearchCV] .................................. C=0.1, score=0.896907 -   0.0s\n",
        "[GridSearchCV] C=1.0 ...........................................................\n",
        "[GridSearchCV] .................................. C=1.0, score=0.864583 -   0.0s"
       ]
      },
      {
       "output_type": "stream",
       "stream": "stdout",
       "text": [
        "\n",
        "[GridSearchCV] C=1.0 ...........................................................\n",
        "[GridSearchCV] .................................. C=1.0, score=0.868132 -   0.0s\n",
        "[GridSearchCV] C=1.0 ...........................................................\n",
        "[GridSearchCV] .................................. C=1.0, score=0.850000 -   0.0s"
       ]
      },
      {
       "output_type": "stream",
       "stream": "stdout",
       "text": [
        "\n",
        "[GridSearchCV] C=1.0 ...........................................................\n",
        "[GridSearchCV] .................................. C=1.0, score=0.892473 -   0.0s\n",
        "[GridSearchCV] C=1.0 ...........................................................\n",
        "[GridSearchCV] .................................. C=1.0, score=0.923077 -   0.0s"
       ]
      },
      {
       "output_type": "stream",
       "stream": "stdout",
       "text": [
        "\n",
        "[GridSearchCV] C=10.0 ..........................................................\n",
        "[GridSearchCV] ................................. C=10.0, score=0.864583 -   0.0s\n",
        "[GridSearchCV] C=10.0 ..........................................................\n",
        "[GridSearchCV] ................................. C=10.0, score=0.868132 -   0.0s"
       ]
      },
      {
       "output_type": "stream",
       "stream": "stdout",
       "text": [
        "\n",
        "[GridSearchCV] C=10.0 ..........................................................\n",
        "[GridSearchCV] ................................. C=10.0, score=0.850000 -   0.0s\n",
        "[GridSearchCV] C=10.0 ..........................................................\n",
        "[GridSearchCV] ................................. C=10.0, score=0.892473 -   0.0s"
       ]
      },
      {
       "output_type": "stream",
       "stream": "stdout",
       "text": [
        "\n",
        "[GridSearchCV] C=10.0 ..........................................................\n",
        "[GridSearchCV] ................................. C=10.0, score=0.922222 -   0.0s\n",
        "[GridSearchCV] C=100.0 .........................................................\n",
        "[GridSearchCV] ................................ C=100.0, score=0.864583 -   0.0s"
       ]
      },
      {
       "output_type": "stream",
       "stream": "stdout",
       "text": [
        "\n",
        "[GridSearchCV] C=100.0 .........................................................\n",
        "[GridSearchCV] ................................ C=100.0, score=0.868132 -   0.0s\n",
        "[GridSearchCV] C=100.0 .........................................................\n",
        "[GridSearchCV] ................................ C=100.0, score=0.850000 -   0.0s"
       ]
      },
      {
       "output_type": "stream",
       "stream": "stdout",
       "text": [
        "\n",
        "[GridSearchCV] C=100.0 .........................................................\n",
        "[GridSearchCV] ................................ C=100.0, score=0.892473 -   0.0s\n",
        "[GridSearchCV] C=100.0 .........................................................\n",
        "[GridSearchCV] ................................ C=100.0, score=0.922222 -   0.0s"
       ]
      },
      {
       "output_type": "stream",
       "stream": "stdout",
       "text": [
        "\n",
        "[GridSearchCV] C=1000.0 ........................................................\n",
        "[GridSearchCV] ............................... C=1000.0, score=0.864583 -   0.0s\n",
        "[GridSearchCV] C=1000.0 ........................................................\n",
        "[GridSearchCV] ............................... C=1000.0, score=0.868132 -   0.0s"
       ]
      },
      {
       "output_type": "stream",
       "stream": "stdout",
       "text": [
        "\n",
        "[GridSearchCV] C=1000.0 ........................................................\n",
        "[GridSearchCV] ............................... C=1000.0, score=0.850000 -   0.0s\n",
        "[GridSearchCV] C=1000.0 ........................................................\n",
        "[GridSearchCV] ............................... C=1000.0, score=0.892473 -   0.0s"
       ]
      },
      {
       "output_type": "stream",
       "stream": "stdout",
       "text": [
        "\n",
        "[GridSearchCV] C=1000.0 ........................................................\n",
        "[GridSearchCV] ............................... C=1000.0, score=0.922222 -   0.0s\n",
        "[GridSearchCV] C=10000.0 .......................................................\n",
        "[GridSearchCV] .............................. C=10000.0, score=0.864583 -   0.0s"
       ]
      },
      {
       "output_type": "stream",
       "stream": "stdout",
       "text": [
        "\n",
        "[GridSearchCV] C=10000.0 .......................................................\n",
        "[GridSearchCV] .............................. C=10000.0, score=0.868132 -   0.0s\n",
        "[GridSearchCV] C=10000.0 .......................................................\n",
        "[GridSearchCV] .............................. C=10000.0, score=0.850000 -   0.0s"
       ]
      },
      {
       "output_type": "stream",
       "stream": "stdout",
       "text": [
        "\n",
        "[GridSearchCV] C=10000.0 .......................................................\n",
        "[GridSearchCV] .............................. C=10000.0, score=0.892473 -   0.0s\n",
        "[GridSearchCV] C=10000.0 .......................................................\n",
        "[GridSearchCV] .............................. C=10000.0, score=0.922222 -   0.0s"
       ]
      },
      {
       "output_type": "stream",
       "stream": "stdout",
       "text": [
        "\n",
        "[GridSearchCV] C=100000.0 ......................................................\n",
        "[GridSearchCV] ............................. C=100000.0, score=0.864583 -   0.0s\n",
        "[GridSearchCV] C=100000.0 ......................................................\n",
        "[GridSearchCV] ............................. C=100000.0, score=0.868132 -   0.0s"
       ]
      },
      {
       "output_type": "stream",
       "stream": "stderr",
       "text": [
        "[Parallel(n_jobs=1)]: Done   1 jobs       | elapsed:    0.0s\n",
        "[Parallel(n_jobs=1)]: Done  32 jobs       | elapsed:    1.1s\n"
       ]
      },
      {
       "output_type": "stream",
       "stream": "stdout",
       "text": [
        "\n",
        "[GridSearchCV] C=100000.0 ......................................................\n",
        "[GridSearchCV] ............................. C=100000.0, score=0.850000 -   0.0s\n",
        "[GridSearchCV] C=100000.0 ......................................................\n",
        "[GridSearchCV] ............................. C=100000.0, score=0.892473 -   0.0s"
       ]
      },
      {
       "output_type": "stream",
       "stream": "stdout",
       "text": [
        "\n",
        "[GridSearchCV] C=100000.0 ......................................................\n",
        "[GridSearchCV] ............................. C=100000.0, score=0.922222 -   0.0s\n",
        "[GridSearchCV] C=1000000.0 .....................................................\n",
        "[GridSearchCV] ............................ C=1000000.0, score=0.864583 -   0.0s"
       ]
      },
      {
       "output_type": "stream",
       "stream": "stdout",
       "text": [
        "\n",
        "[GridSearchCV] C=1000000.0 .....................................................\n",
        "[GridSearchCV] ............................ C=1000000.0, score=0.868132 -   0.0s\n",
        "[GridSearchCV] C=1000000.0 .....................................................\n",
        "[GridSearchCV] ............................ C=1000000.0, score=0.850000 -   0.0s"
       ]
      },
      {
       "output_type": "stream",
       "stream": "stdout",
       "text": [
        "\n",
        "[GridSearchCV] C=1000000.0 .....................................................\n",
        "[GridSearchCV] ............................ C=1000000.0, score=0.892473 -   0.0s\n",
        "[GridSearchCV] C=1000000.0 .....................................................\n",
        "[GridSearchCV] ............................ C=1000000.0, score=0.922222 -   0.0s"
       ]
      },
      {
       "output_type": "stream",
       "stream": "stdout",
       "text": [
        "\n",
        "[GridSearchCV] C=10000000.0 ....................................................\n",
        "[GridSearchCV] ........................... C=10000000.0, score=0.864583 -   0.0s\n",
        "[GridSearchCV] C=10000000.0 ....................................................\n",
        "[GridSearchCV] ........................... C=10000000.0, score=0.868132 -   0.0s"
       ]
      },
      {
       "output_type": "stream",
       "stream": "stdout",
       "text": [
        "\n",
        "[GridSearchCV] C=10000000.0 ....................................................\n",
        "[GridSearchCV] ........................... C=10000000.0, score=0.850000 -   0.0s\n",
        "[GridSearchCV] C=10000000.0 ....................................................\n",
        "[GridSearchCV] ........................... C=10000000.0, score=0.892473 -   0.0s"
       ]
      },
      {
       "output_type": "stream",
       "stream": "stdout",
       "text": [
        "\n",
        "[GridSearchCV] C=10000000.0 ....................................................\n",
        "[GridSearchCV] ........................... C=10000000.0, score=0.922222 -   0.0s\n"
       ]
      },
      {
       "output_type": "stream",
       "stream": "stderr",
       "text": [
        "[Parallel(n_jobs=1)]: Done  45 out of  45 | elapsed:    1.5s finished\n"
       ]
      },
      {
       "metadata": {},
       "output_type": "pyout",
       "prompt_number": 89,
       "text": [
        "GridSearchCV(cv=sklearn.cross_validation.StratifiedKFold(labels=[ 0.  0. ...,  1.  1.], n_folds=5),\n",
        "       estimator=SVC(C=1.0, cache_size=200, class_weight=None, coef0=0.0, degree=3, gamma=0.0,\n",
        "  kernel='poly', max_iter=-1, probability=False, random_state=None,\n",
        "  shrinking=True, tol=0.001, verbose=False),\n",
        "       fit_params={}, iid=True, loss_func=None, n_jobs=1,\n",
        "       param_grid={'C': array([  1.00000e-01,   1.00000e+00,   1.00000e+01,   1.00000e+02,\n",
        "         1.00000e+03,   1.00000e+04,   1.00000e+05,   1.00000e+06,\n",
        "         1.00000e+07])},\n",
        "       pre_dispatch='2*n_jobs', refit=True, score_func=None,\n",
        "       scoring='precision', verbose=3)"
       ]
      }
     ],
     "prompt_number": 89
    },
    {
     "cell_type": "code",
     "collapsed": false,
     "input": [
      "print (grid_search.best_params_)\n",
      "print (grid_search.best_score_)"
     ],
     "language": "python",
     "metadata": {},
     "outputs": [
      {
       "output_type": "stream",
       "stream": "stdout",
       "text": [
        "{'C': 1.0}\n",
        "0.879653048564\n"
       ]
      }
     ],
     "prompt_number": 90
    },
    {
     "cell_type": "code",
     "collapsed": false,
     "input": [
      "grid_search.grid_scores_"
     ],
     "language": "python",
     "metadata": {},
     "outputs": [
      {
       "metadata": {},
       "output_type": "pyout",
       "prompt_number": 94,
       "text": [
        "[mean: 0.87228, std: 0.02455, params: {'C': 0.10000000000000001},\n",
        " mean: 0.87965, std: 0.02565, params: {'C': 1.0},\n",
        " mean: 0.87948, std: 0.02536, params: {'C': 10.0},\n",
        " mean: 0.87948, std: 0.02536, params: {'C': 100.0},\n",
        " mean: 0.87948, std: 0.02536, params: {'C': 1000.0},\n",
        " mean: 0.87948, std: 0.02536, params: {'C': 10000.0},\n",
        " mean: 0.87948, std: 0.02536, params: {'C': 100000.0},\n",
        " mean: 0.87948, std: 0.02536, params: {'C': 1000000.0},\n",
        " mean: 0.87948, std: 0.02536, params: {'C': 10000000.0}]"
       ]
      }
     ],
     "prompt_number": 94
    },
    {
     "cell_type": "code",
     "collapsed": false,
     "input": [],
     "language": "python",
     "metadata": {},
     "outputs": [],
     "prompt_number": 95
    },
    {
     "cell_type": "markdown",
     "metadata": {},
     "source": [
      "###Now let's try to grid search multiple parameters"
     ]
    },
    {
     "cell_type": "code",
     "collapsed": false,
     "input": [
      "gamma_range = 10 ** np.arange(-4,4,1)\n",
      "C_range = 10.0 ** np.arange(-3,4,1)\n",
      "param_grid = dict(gamma=gamma_range,C=C_range)\n",
      "\n",
      "X_data, test_data = decomposition_pca(X, test)\n",
      "X_train, y_train, X_test, y_test = divid_data(X_data, y)\n",
      "\n",
      "params = [{'kernel': ['poly'], 'gamma': gamma_range, 'C': C_range}]\n",
      "cvk = cv.StratifiedKFold(y_train, k=3)\n",
      "grid_search = GridSearchCV(svm.SVC(), param_grid = params, cv=cvk, verbose=3)"
     ],
     "language": "python",
     "metadata": {},
     "outputs": [
      {
       "output_type": "stream",
       "stream": "stderr",
       "text": [
        "/Library/Python/2.7/site-packages/sklearn/cross_validation.py:240: DeprecationWarning: The parameter k was renamed to n_folds and will be removed in 0.15.\n",
        "  \" removed in 0.15.\", DeprecationWarning)\n"
       ]
      }
     ],
     "prompt_number": 31
    },
    {
     "cell_type": "code",
     "collapsed": false,
     "input": [
      "grid_search.fit(X_train, y_train)"
     ],
     "language": "python",
     "metadata": {},
     "outputs": [
      {
       "output_type": "stream",
       "stream": "stdout",
       "text": [
        "Fitting 3 folds for each of 56 candidates, totalling 168 fits\n",
        "[GridSearchCV] kernel=poly, C=0.001, gamma=0 ...................................\n",
        "[GridSearchCV] .......... kernel=poly, C=0.001, gamma=0, score=0.510000 -   0.0s\n",
        "[GridSearchCV] kernel=poly, C=0.001, gamma=0 ...................................\n",
        "[GridSearchCV] .......... kernel=poly, C=0.001, gamma=0, score=0.510000 -   0.0s\n",
        "[GridSearchCV] kernel=poly, C=0.001, gamma=0 ...................................\n",
        "[GridSearchCV] .......... kernel=poly, C=0.001, gamma=0, score=0.510000 -   0.0s"
       ]
      },
      {
       "output_type": "stream",
       "stream": "stdout",
       "text": [
        "\n",
        "[GridSearchCV] kernel=poly, C=0.001, gamma=0 ...................................\n",
        "[GridSearchCV] .......... kernel=poly, C=0.001, gamma=0, score=0.510000 -   0.0s\n",
        "[GridSearchCV] kernel=poly, C=0.001, gamma=0 ...................................\n",
        "[GridSearchCV] .......... kernel=poly, C=0.001, gamma=0, score=0.510000 -   0.0s\n",
        "[GridSearchCV] kernel=poly, C=0.001, gamma=0 ...................................\n",
        "[GridSearchCV] .......... kernel=poly, C=0.001, gamma=0, score=0.510000 -   0.0s\n",
        "[GridSearchCV] kernel=poly, C=0.001, gamma=0 ...................................\n",
        "[GridSearchCV] .......... kernel=poly, C=0.001, gamma=0, score=0.510000 -   0.0s"
       ]
      },
      {
       "output_type": "stream",
       "stream": "stdout",
       "text": [
        "\n",
        "[GridSearchCV] kernel=poly, C=0.001, gamma=0 ...................................\n",
        "[GridSearchCV] .......... kernel=poly, C=0.001, gamma=0, score=0.510000 -   0.0s\n",
        "[GridSearchCV] kernel=poly, C=0.001, gamma=0 ...................................\n",
        "[GridSearchCV] .......... kernel=poly, C=0.001, gamma=0, score=0.510000 -   0.0s\n",
        "[GridSearchCV] kernel=poly, C=0.001, gamma=0 ...................................\n",
        "[GridSearchCV] .......... kernel=poly, C=0.001, gamma=0, score=0.510000 -   0.0s\n",
        "[GridSearchCV] kernel=poly, C=0.001, gamma=0 ...................................\n",
        "[GridSearchCV] .......... kernel=poly, C=0.001, gamma=0, score=0.510000 -   0.0s"
       ]
      },
      {
       "output_type": "stream",
       "stream": "stdout",
       "text": [
        "\n",
        "[GridSearchCV] kernel=poly, C=0.001, gamma=0 ...................................\n",
        "[GridSearchCV] .......... kernel=poly, C=0.001, gamma=0, score=0.510000 -   0.0s\n",
        "[GridSearchCV] kernel=poly, C=0.001, gamma=1 ...................................\n",
        "[GridSearchCV] .......... kernel=poly, C=0.001, gamma=1, score=0.890000 -   0.0s\n",
        "[GridSearchCV] kernel=poly, C=0.001, gamma=1 ...................................\n",
        "[GridSearchCV] .......... kernel=poly, C=0.001, gamma=1, score=0.930000 -   0.0s\n",
        "[GridSearchCV] kernel=poly, C=0.001, gamma=1 ...................................\n",
        "[GridSearchCV] .......... kernel=poly, C=0.001, gamma=1, score=0.876667 -   0.0s"
       ]
      },
      {
       "output_type": "stream",
       "stream": "stdout",
       "text": [
        "\n",
        "[GridSearchCV] kernel=poly, C=0.001, gamma=10 ..................................\n",
        "[GridSearchCV] ......... kernel=poly, C=0.001, gamma=10, score=0.860000 -   0.0s\n",
        "[GridSearchCV] kernel=poly, C=0.001, gamma=10 ..................................\n",
        "[GridSearchCV] ......... kernel=poly, C=0.001, gamma=10, score=0.880000 -   0.0s\n",
        "[GridSearchCV] kernel=poly, C=0.001, gamma=10 ..................................\n",
        "[GridSearchCV] ......... kernel=poly, C=0.001, gamma=10, score=0.860000 -   0.0s"
       ]
      },
      {
       "output_type": "stream",
       "stream": "stdout",
       "text": [
        "\n",
        "[GridSearchCV] kernel=poly, C=0.001, gamma=100 .................................\n",
        "[GridSearchCV] ........ kernel=poly, C=0.001, gamma=100, score=0.860000 -   0.0s\n",
        "[GridSearchCV] kernel=poly, C=0.001, gamma=100 .................................\n",
        "[GridSearchCV] ........ kernel=poly, C=0.001, gamma=100, score=0.880000 -   0.0s\n",
        "[GridSearchCV] kernel=poly, C=0.001, gamma=100 .................................\n",
        "[GridSearchCV] ........ kernel=poly, C=0.001, gamma=100, score=0.860000 -   0.0s"
       ]
      },
      {
       "output_type": "stream",
       "stream": "stdout",
       "text": [
        "\n",
        "[GridSearchCV] kernel=poly, C=0.001, gamma=1000 ................................\n",
        "[GridSearchCV] ....... kernel=poly, C=0.001, gamma=1000, score=0.860000 -   0.0s\n",
        "[GridSearchCV] kernel=poly, C=0.001, gamma=1000 ................................\n",
        "[GridSearchCV] ....... kernel=poly, C=0.001, gamma=1000, score=0.880000 -   0.0s\n",
        "[GridSearchCV] kernel=poly, C=0.001, gamma=1000 ................................\n",
        "[GridSearchCV] ....... kernel=poly, C=0.001, gamma=1000, score=0.860000 -   0.0s"
       ]
      },
      {
       "output_type": "stream",
       "stream": "stdout",
       "text": [
        "\n",
        "[GridSearchCV] kernel=poly, C=0.01, gamma=0 ....................................\n",
        "[GridSearchCV] ........... kernel=poly, C=0.01, gamma=0, score=0.510000 -   0.0s\n",
        "[GridSearchCV] kernel=poly, C=0.01, gamma=0 ....................................\n",
        "[GridSearchCV] ........... kernel=poly, C=0.01, gamma=0, score=0.510000 -   0.0s\n",
        "[GridSearchCV] kernel=poly, C=0.01, gamma=0 ....................................\n",
        "[GridSearchCV] ........... kernel=poly, C=0.01, gamma=0, score=0.510000 -   0.0s\n",
        "[GridSearchCV] kernel=poly, C=0.01, gamma=0 ....................................\n",
        "[GridSearchCV] ........... kernel=poly, C=0.01, gamma=0, score=0.510000 -   0.0s"
       ]
      },
      {
       "output_type": "stream",
       "stream": "stdout",
       "text": [
        "\n",
        "[GridSearchCV] kernel=poly, C=0.01, gamma=0 ....................................\n",
        "[GridSearchCV] ........... kernel=poly, C=0.01, gamma=0, score=0.510000 -   0.0s\n",
        "[GridSearchCV] kernel=poly, C=0.01, gamma=0 ....................................\n",
        "[GridSearchCV] ........... kernel=poly, C=0.01, gamma=0, score=0.510000 -   0.0s\n",
        "[GridSearchCV] kernel=poly, C=0.01, gamma=0 ....................................\n",
        "[GridSearchCV] ........... kernel=poly, C=0.01, gamma=0, score=0.510000 -   0.0s\n",
        "[GridSearchCV] kernel=poly, C=0.01, gamma=0 ....................................\n",
        "[GridSearchCV] ........... kernel=poly, C=0.01, gamma=0, score=0.510000 -   0.0s"
       ]
      },
      {
       "output_type": "stream",
       "stream": "stderr",
       "text": [
        "[Parallel(n_jobs=1)]: Done   1 jobs       | elapsed:    0.0s\n",
        "[Parallel(n_jobs=1)]: Done  32 jobs       | elapsed:    0.5s\n"
       ]
      },
      {
       "output_type": "stream",
       "stream": "stdout",
       "text": [
        "\n",
        "[GridSearchCV] kernel=poly, C=0.01, gamma=0 ....................................\n",
        "[GridSearchCV] ........... kernel=poly, C=0.01, gamma=0, score=0.510000 -   0.0s\n",
        "[GridSearchCV] kernel=poly, C=0.01, gamma=0 ....................................\n",
        "[GridSearchCV] ........... kernel=poly, C=0.01, gamma=0, score=0.510000 -   0.0s\n",
        "[GridSearchCV] kernel=poly, C=0.01, gamma=0 ....................................\n",
        "[GridSearchCV] ........... kernel=poly, C=0.01, gamma=0, score=0.510000 -   0.0s\n",
        "[GridSearchCV] kernel=poly, C=0.01, gamma=0 ....................................\n",
        "[GridSearchCV] ........... kernel=poly, C=0.01, gamma=0, score=0.510000 -   0.0s"
       ]
      },
      {
       "output_type": "stream",
       "stream": "stdout",
       "text": [
        "\n",
        "[GridSearchCV] kernel=poly, C=0.01, gamma=1 ....................................\n",
        "[GridSearchCV] ........... kernel=poly, C=0.01, gamma=1, score=0.886667 -   0.0s\n",
        "[GridSearchCV] kernel=poly, C=0.01, gamma=1 ....................................\n",
        "[GridSearchCV] ........... kernel=poly, C=0.01, gamma=1, score=0.900000 -   0.0s\n",
        "[GridSearchCV] kernel=poly, C=0.01, gamma=1 ....................................\n",
        "[GridSearchCV] ........... kernel=poly, C=0.01, gamma=1, score=0.870000 -   0.0s\n",
        "[GridSearchCV] kernel=poly, C=0.01, gamma=10 ...................................\n",
        "[GridSearchCV] .......... kernel=poly, C=0.01, gamma=10, score=0.860000 -   0.0s"
       ]
      },
      {
       "output_type": "stream",
       "stream": "stdout",
       "text": [
        "\n",
        "[GridSearchCV] kernel=poly, C=0.01, gamma=10 ...................................\n",
        "[GridSearchCV] .......... kernel=poly, C=0.01, gamma=10, score=0.880000 -   0.0s\n",
        "[GridSearchCV] kernel=poly, C=0.01, gamma=10 ...................................\n",
        "[GridSearchCV] .......... kernel=poly, C=0.01, gamma=10, score=0.860000 -   0.0s\n",
        "[GridSearchCV] kernel=poly, C=0.01, gamma=100 ..................................\n",
        "[GridSearchCV] ......... kernel=poly, C=0.01, gamma=100, score=0.860000 -   0.0s"
       ]
      },
      {
       "output_type": "stream",
       "stream": "stdout",
       "text": [
        "\n",
        "[GridSearchCV] kernel=poly, C=0.01, gamma=100 ..................................\n",
        "[GridSearchCV] ......... kernel=poly, C=0.01, gamma=100, score=0.880000 -   0.0s\n",
        "[GridSearchCV] kernel=poly, C=0.01, gamma=100 ..................................\n",
        "[GridSearchCV] ......... kernel=poly, C=0.01, gamma=100, score=0.860000 -   0.0s\n",
        "[GridSearchCV] kernel=poly, C=0.01, gamma=1000 .................................\n",
        "[GridSearchCV] ........ kernel=poly, C=0.01, gamma=1000, score=0.860000 -   0.0s"
       ]
      },
      {
       "output_type": "stream",
       "stream": "stdout",
       "text": [
        "\n",
        "[GridSearchCV] kernel=poly, C=0.01, gamma=1000 .................................\n",
        "[GridSearchCV] ........ kernel=poly, C=0.01, gamma=1000, score=0.880000 -   0.0s\n",
        "[GridSearchCV] kernel=poly, C=0.01, gamma=1000 .................................\n",
        "[GridSearchCV] ........ kernel=poly, C=0.01, gamma=1000, score=0.860000 -   0.0s\n",
        "[GridSearchCV] kernel=poly, C=0.1, gamma=0 .....................................\n",
        "[GridSearchCV] ............ kernel=poly, C=0.1, gamma=0, score=0.846667 -   0.0s"
       ]
      },
      {
       "output_type": "stream",
       "stream": "stdout",
       "text": [
        "\n",
        "[GridSearchCV] kernel=poly, C=0.1, gamma=0 .....................................\n",
        "[GridSearchCV] ............ kernel=poly, C=0.1, gamma=0, score=0.916667 -   0.0s\n",
        "[GridSearchCV] kernel=poly, C=0.1, gamma=0 .....................................\n",
        "[GridSearchCV] ............ kernel=poly, C=0.1, gamma=0, score=0.870000 -   0.0s\n",
        "[GridSearchCV] kernel=poly, C=0.1, gamma=0 .....................................\n",
        "[GridSearchCV] ............ kernel=poly, C=0.1, gamma=0, score=0.846667 -   0.0s\n",
        "[GridSearchCV] kernel=poly, C=0.1, gamma=0 .....................................\n",
        "[GridSearchCV] ............ kernel=poly, C=0.1, gamma=0, score=0.916667 -   0.0s"
       ]
      },
      {
       "output_type": "stream",
       "stream": "stdout",
       "text": [
        "\n",
        "[GridSearchCV] kernel=poly, C=0.1, gamma=0 .....................................\n",
        "[GridSearchCV] ............ kernel=poly, C=0.1, gamma=0, score=0.870000 -   0.0s\n",
        "[GridSearchCV] kernel=poly, C=0.1, gamma=0 .....................................\n",
        "[GridSearchCV] ............ kernel=poly, C=0.1, gamma=0, score=0.846667 -   0.0s\n",
        "[GridSearchCV] kernel=poly, C=0.1, gamma=0 .....................................\n",
        "[GridSearchCV] ............ kernel=poly, C=0.1, gamma=0, score=0.916667 -   0.0s\n",
        "[GridSearchCV] kernel=poly, C=0.1, gamma=0 .....................................\n",
        "[GridSearchCV] ............ kernel=poly, C=0.1, gamma=0, score=0.870000 -   0.0s"
       ]
      },
      {
       "output_type": "stream",
       "stream": "stdout",
       "text": [
        "\n",
        "[GridSearchCV] kernel=poly, C=0.1, gamma=0 .....................................\n",
        "[GridSearchCV] ............ kernel=poly, C=0.1, gamma=0, score=0.846667 -   0.0s\n",
        "[GridSearchCV] kernel=poly, C=0.1, gamma=0 .....................................\n",
        "[GridSearchCV] ............ kernel=poly, C=0.1, gamma=0, score=0.916667 -   0.0s\n",
        "[GridSearchCV] kernel=poly, C=0.1, gamma=0 .....................................\n",
        "[GridSearchCV] ............ kernel=poly, C=0.1, gamma=0, score=0.870000 -   0.0s\n",
        "[GridSearchCV] kernel=poly, C=0.1, gamma=1 .....................................\n",
        "[GridSearchCV] ............ kernel=poly, C=0.1, gamma=1, score=0.873333 -   0.0s"
       ]
      },
      {
       "output_type": "stream",
       "stream": "stdout",
       "text": [
        "\n",
        "[GridSearchCV] kernel=poly, C=0.1, gamma=1 .....................................\n",
        "[GridSearchCV] ............ kernel=poly, C=0.1, gamma=1, score=0.880000 -   0.0s\n",
        "[GridSearchCV] kernel=poly, C=0.1, gamma=1 .....................................\n",
        "[GridSearchCV] ............ kernel=poly, C=0.1, gamma=1, score=0.853333 -   0.0s\n",
        "[GridSearchCV] kernel=poly, C=0.1, gamma=10 ....................................\n",
        "[GridSearchCV] ........... kernel=poly, C=0.1, gamma=10, score=0.860000 -   0.0s"
       ]
      },
      {
       "output_type": "stream",
       "stream": "stdout",
       "text": [
        "\n",
        "[GridSearchCV] kernel=poly, C=0.1, gamma=10 ....................................\n",
        "[GridSearchCV] ........... kernel=poly, C=0.1, gamma=10, score=0.880000 -   0.0s\n",
        "[GridSearchCV] kernel=poly, C=0.1, gamma=10 ....................................\n",
        "[GridSearchCV] ........... kernel=poly, C=0.1, gamma=10, score=0.860000 -   0.0s\n",
        "[GridSearchCV] kernel=poly, C=0.1, gamma=100 ...................................\n",
        "[GridSearchCV] .......... kernel=poly, C=0.1, gamma=100, score=0.860000 -   0.0s"
       ]
      },
      {
       "output_type": "stream",
       "stream": "stdout",
       "text": [
        "\n",
        "[GridSearchCV] kernel=poly, C=0.1, gamma=100 ...................................\n",
        "[GridSearchCV] .......... kernel=poly, C=0.1, gamma=100, score=0.880000 -   0.0s\n",
        "[GridSearchCV] kernel=poly, C=0.1, gamma=100 ...................................\n",
        "[GridSearchCV] .......... kernel=poly, C=0.1, gamma=100, score=0.860000 -   0.0s\n",
        "[GridSearchCV] kernel=poly, C=0.1, gamma=1000 ..................................\n",
        "[GridSearchCV] ......... kernel=poly, C=0.1, gamma=1000, score=0.860000 -   0.0s"
       ]
      },
      {
       "output_type": "stream",
       "stream": "stdout",
       "text": [
        "\n",
        "[GridSearchCV] kernel=poly, C=0.1, gamma=1000 ..................................\n",
        "[GridSearchCV] ......... kernel=poly, C=0.1, gamma=1000, score=0.880000 -   0.0s\n",
        "[GridSearchCV] kernel=poly, C=0.1, gamma=1000 ..................................\n",
        "[GridSearchCV] ......... kernel=poly, C=0.1, gamma=1000, score=0.860000 -   0.0s\n",
        "[GridSearchCV] kernel=poly, C=1.0, gamma=0 .....................................\n",
        "[GridSearchCV] ............ kernel=poly, C=1.0, gamma=0, score=0.883333 -   0.0s"
       ]
      },
      {
       "output_type": "stream",
       "stream": "stdout",
       "text": [
        "\n",
        "[GridSearchCV] kernel=poly, C=1.0, gamma=0 .....................................\n",
        "[GridSearchCV] ............ kernel=poly, C=1.0, gamma=0, score=0.933333 -   0.0s\n",
        "[GridSearchCV] kernel=poly, C=1.0, gamma=0 .....................................\n",
        "[GridSearchCV] ............ kernel=poly, C=1.0, gamma=0, score=0.876667 -   0.0s\n",
        "[GridSearchCV] kernel=poly, C=1.0, gamma=0 .....................................\n",
        "[GridSearchCV] ............ kernel=poly, C=1.0, gamma=0, score=0.883333 -   0.0s\n",
        "[GridSearchCV] kernel=poly, C=1.0, gamma=0 .....................................\n",
        "[GridSearchCV] ............ kernel=poly, C=1.0, gamma=0, score=0.933333 -   0.0s"
       ]
      },
      {
       "output_type": "stream",
       "stream": "stdout",
       "text": [
        "\n",
        "[GridSearchCV] kernel=poly, C=1.0, gamma=0 .....................................\n",
        "[GridSearchCV] ............ kernel=poly, C=1.0, gamma=0, score=0.876667 -   0.0s\n",
        "[GridSearchCV] kernel=poly, C=1.0, gamma=0 .....................................\n",
        "[GridSearchCV] ............ kernel=poly, C=1.0, gamma=0, score=0.883333 -   0.0s\n",
        "[GridSearchCV] kernel=poly, C=1.0, gamma=0 .....................................\n",
        "[GridSearchCV] ............ kernel=poly, C=1.0, gamma=0, score=0.933333 -   0.0s\n",
        "[GridSearchCV] kernel=poly, C=1.0, gamma=0 .....................................\n",
        "[GridSearchCV] ............ kernel=poly, C=1.0, gamma=0, score=0.876667 -   0.0s"
       ]
      },
      {
       "output_type": "stream",
       "stream": "stdout",
       "text": [
        "\n",
        "[GridSearchCV] kernel=poly, C=1.0, gamma=0 .....................................\n",
        "[GridSearchCV] ............ kernel=poly, C=1.0, gamma=0, score=0.883333 -   0.0s\n",
        "[GridSearchCV] kernel=poly, C=1.0, gamma=0 .....................................\n",
        "[GridSearchCV] ............ kernel=poly, C=1.0, gamma=0, score=0.933333 -   0.0s\n",
        "[GridSearchCV] kernel=poly, C=1.0, gamma=0 .....................................\n",
        "[GridSearchCV] ............ kernel=poly, C=1.0, gamma=0, score=0.876667 -   0.0s\n",
        "[GridSearchCV] kernel=poly, C=1.0, gamma=1 .....................................\n",
        "[GridSearchCV] ............ kernel=poly, C=1.0, gamma=1, score=0.860000 -   0.0s"
       ]
      },
      {
       "output_type": "stream",
       "stream": "stdout",
       "text": [
        "\n",
        "[GridSearchCV] kernel=poly, C=1.0, gamma=1 .....................................\n",
        "[GridSearchCV] ............ kernel=poly, C=1.0, gamma=1, score=0.880000 -   0.0s\n",
        "[GridSearchCV] kernel=poly, C=1.0, gamma=1 .....................................\n",
        "[GridSearchCV] ............ kernel=poly, C=1.0, gamma=1, score=0.860000 -   0.0s\n",
        "[GridSearchCV] kernel=poly, C=1.0, gamma=10 ....................................\n",
        "[GridSearchCV] ........... kernel=poly, C=1.0, gamma=10, score=0.860000 -   0.0s"
       ]
      },
      {
       "output_type": "stream",
       "stream": "stdout",
       "text": [
        "\n",
        "[GridSearchCV] kernel=poly, C=1.0, gamma=10 ....................................\n",
        "[GridSearchCV] ........... kernel=poly, C=1.0, gamma=10, score=0.880000 -   0.0s\n",
        "[GridSearchCV] kernel=poly, C=1.0, gamma=10 ....................................\n",
        "[GridSearchCV] ........... kernel=poly, C=1.0, gamma=10, score=0.860000 -   0.0s\n",
        "[GridSearchCV] kernel=poly, C=1.0, gamma=100 ...................................\n",
        "[GridSearchCV] .......... kernel=poly, C=1.0, gamma=100, score=0.860000 -   0.0s"
       ]
      },
      {
       "output_type": "stream",
       "stream": "stdout",
       "text": [
        "\n",
        "[GridSearchCV] kernel=poly, C=1.0, gamma=100 ...................................\n",
        "[GridSearchCV] .......... kernel=poly, C=1.0, gamma=100, score=0.880000 -   0.0s\n",
        "[GridSearchCV] kernel=poly, C=1.0, gamma=100 ...................................\n",
        "[GridSearchCV] .......... kernel=poly, C=1.0, gamma=100, score=0.860000 -   0.0s\n",
        "[GridSearchCV] kernel=poly, C=1.0, gamma=1000 ..................................\n",
        "[GridSearchCV] ......... kernel=poly, C=1.0, gamma=1000, score=0.860000 -   0.0s"
       ]
      },
      {
       "output_type": "stream",
       "stream": "stdout",
       "text": [
        "\n",
        "[GridSearchCV] kernel=poly, C=1.0, gamma=1000 ..................................\n",
        "[GridSearchCV] ......... kernel=poly, C=1.0, gamma=1000, score=0.880000 -   0.0s\n",
        "[GridSearchCV] kernel=poly, C=1.0, gamma=1000 ..................................\n",
        "[GridSearchCV] ......... kernel=poly, C=1.0, gamma=1000, score=0.860000 -   0.0s\n",
        "[GridSearchCV] kernel=poly, C=10.0, gamma=0 ....................................\n",
        "[GridSearchCV] ........... kernel=poly, C=10.0, gamma=0, score=0.893333 -   0.0s"
       ]
      },
      {
       "output_type": "stream",
       "stream": "stdout",
       "text": [
        "\n",
        "[GridSearchCV] kernel=poly, C=10.0, gamma=0 ....................................\n",
        "[GridSearchCV] ........... kernel=poly, C=10.0, gamma=0, score=0.896667 -   0.0s\n",
        "[GridSearchCV] kernel=poly, C=10.0, gamma=0 ....................................\n",
        "[GridSearchCV] ........... kernel=poly, C=10.0, gamma=0, score=0.880000 -   0.0s\n",
        "[GridSearchCV] kernel=poly, C=10.0, gamma=0 ....................................\n",
        "[GridSearchCV] ........... kernel=poly, C=10.0, gamma=0, score=0.893333 -   0.0s\n",
        "[GridSearchCV] kernel=poly, C=10.0, gamma=0 ....................................\n",
        "[GridSearchCV] ........... kernel=poly, C=10.0, gamma=0, score=0.896667 -   0.0s"
       ]
      },
      {
       "output_type": "stream",
       "stream": "stdout",
       "text": [
        "\n",
        "[GridSearchCV] kernel=poly, C=10.0, gamma=0 ....................................\n",
        "[GridSearchCV] ........... kernel=poly, C=10.0, gamma=0, score=0.880000 -   0.0s\n",
        "[GridSearchCV] kernel=poly, C=10.0, gamma=0 ....................................\n",
        "[GridSearchCV] ........... kernel=poly, C=10.0, gamma=0, score=0.893333 -   0.0s\n",
        "[GridSearchCV] kernel=poly, C=10.0, gamma=0 ....................................\n",
        "[GridSearchCV] ........... kernel=poly, C=10.0, gamma=0, score=0.896667 -   0.0s\n",
        "[GridSearchCV] kernel=poly, C=10.0, gamma=0 ....................................\n",
        "[GridSearchCV] ........... kernel=poly, C=10.0, gamma=0, score=0.880000 -   0.0s"
       ]
      },
      {
       "output_type": "stream",
       "stream": "stdout",
       "text": [
        "\n",
        "[GridSearchCV] kernel=poly, C=10.0, gamma=0 ....................................\n",
        "[GridSearchCV] ........... kernel=poly, C=10.0, gamma=0, score=0.893333 -   0.0s\n",
        "[GridSearchCV] kernel=poly, C=10.0, gamma=0 ....................................\n",
        "[GridSearchCV] ........... kernel=poly, C=10.0, gamma=0, score=0.896667 -   0.0s\n",
        "[GridSearchCV] kernel=poly, C=10.0, gamma=0 ....................................\n",
        "[GridSearchCV] ........... kernel=poly, C=10.0, gamma=0, score=0.880000 -   0.0s\n",
        "[GridSearchCV] kernel=poly, C=10.0, gamma=1 ....................................\n",
        "[GridSearchCV] ........... kernel=poly, C=10.0, gamma=1, score=0.860000 -   0.0s"
       ]
      },
      {
       "output_type": "stream",
       "stream": "stdout",
       "text": [
        "\n",
        "[GridSearchCV] kernel=poly, C=10.0, gamma=1 ....................................\n",
        "[GridSearchCV] ........... kernel=poly, C=10.0, gamma=1, score=0.880000 -   0.0s\n",
        "[GridSearchCV] kernel=poly, C=10.0, gamma=1 ....................................\n",
        "[GridSearchCV] ........... kernel=poly, C=10.0, gamma=1, score=0.860000 -   0.0s\n",
        "[GridSearchCV] kernel=poly, C=10.0, gamma=10 ...................................\n",
        "[GridSearchCV] .......... kernel=poly, C=10.0, gamma=10, score=0.860000 -   0.0s"
       ]
      },
      {
       "output_type": "stream",
       "stream": "stdout",
       "text": [
        "\n",
        "[GridSearchCV] kernel=poly, C=10.0, gamma=10 ...................................\n",
        "[GridSearchCV] .......... kernel=poly, C=10.0, gamma=10, score=0.880000 -   0.0s\n",
        "[GridSearchCV] kernel=poly, C=10.0, gamma=10 ...................................\n",
        "[GridSearchCV] .......... kernel=poly, C=10.0, gamma=10, score=0.860000 -   0.0s\n",
        "[GridSearchCV] kernel=poly, C=10.0, gamma=100 ..................................\n",
        "[GridSearchCV] ......... kernel=poly, C=10.0, gamma=100, score=0.860000 -   0.0s"
       ]
      },
      {
       "output_type": "stream",
       "stream": "stdout",
       "text": [
        "\n",
        "[GridSearchCV] kernel=poly, C=10.0, gamma=100 ..................................\n",
        "[GridSearchCV] ......... kernel=poly, C=10.0, gamma=100, score=0.880000 -   0.0s\n",
        "[GridSearchCV] kernel=poly, C=10.0, gamma=100 ..................................\n",
        "[GridSearchCV] ......... kernel=poly, C=10.0, gamma=100, score=0.860000 -   0.0s\n",
        "[GridSearchCV] kernel=poly, C=10.0, gamma=1000 .................................\n",
        "[GridSearchCV] ........ kernel=poly, C=10.0, gamma=1000, score=0.860000 -   0.0s"
       ]
      },
      {
       "output_type": "stream",
       "stream": "stdout",
       "text": [
        "\n",
        "[GridSearchCV] kernel=poly, C=10.0, gamma=1000 .................................\n",
        "[GridSearchCV] ........ kernel=poly, C=10.0, gamma=1000, score=0.880000 -   0.0s\n",
        "[GridSearchCV] kernel=poly, C=10.0, gamma=1000 .................................\n",
        "[GridSearchCV] ........ kernel=poly, C=10.0, gamma=1000, score=0.860000 -   0.0s\n",
        "[GridSearchCV] kernel=poly, C=100.0, gamma=0 ...................................\n",
        "[GridSearchCV] .......... kernel=poly, C=100.0, gamma=0, score=0.870000 -   0.0s"
       ]
      },
      {
       "output_type": "stream",
       "stream": "stdout",
       "text": [
        "\n",
        "[GridSearchCV] kernel=poly, C=100.0, gamma=0 ...................................\n",
        "[GridSearchCV] .......... kernel=poly, C=100.0, gamma=0, score=0.893333 -   0.0s\n",
        "[GridSearchCV] kernel=poly, C=100.0, gamma=0 ...................................\n",
        "[GridSearchCV] .......... kernel=poly, C=100.0, gamma=0, score=0.846667 -   0.0s\n",
        "[GridSearchCV] kernel=poly, C=100.0, gamma=0 ...................................\n",
        "[GridSearchCV] .......... kernel=poly, C=100.0, gamma=0, score=0.870000 -   0.0s"
       ]
      },
      {
       "output_type": "stream",
       "stream": "stdout",
       "text": [
        "\n",
        "[GridSearchCV] kernel=poly, C=100.0, gamma=0 ...................................\n",
        "[GridSearchCV] .......... kernel=poly, C=100.0, gamma=0, score=0.893333 -   0.0s\n",
        "[GridSearchCV] kernel=poly, C=100.0, gamma=0 ...................................\n",
        "[GridSearchCV] .......... kernel=poly, C=100.0, gamma=0, score=0.846667 -   0.0s\n",
        "[GridSearchCV] kernel=poly, C=100.0, gamma=0 ...................................\n",
        "[GridSearchCV] .......... kernel=poly, C=100.0, gamma=0, score=0.870000 -   0.0s"
       ]
      },
      {
       "output_type": "stream",
       "stream": "stdout",
       "text": [
        "\n",
        "[GridSearchCV] kernel=poly, C=100.0, gamma=0 ...................................\n",
        "[GridSearchCV] .......... kernel=poly, C=100.0, gamma=0, score=0.893333 -   0.0s\n",
        "[GridSearchCV] kernel=poly, C=100.0, gamma=0 ...................................\n",
        "[GridSearchCV] .......... kernel=poly, C=100.0, gamma=0, score=0.846667 -   0.0s\n",
        "[GridSearchCV] kernel=poly, C=100.0, gamma=0 ...................................\n",
        "[GridSearchCV] .......... kernel=poly, C=100.0, gamma=0, score=0.870000 -   0.0s"
       ]
      },
      {
       "output_type": "stream",
       "stream": "stdout",
       "text": [
        "\n",
        "[GridSearchCV] kernel=poly, C=100.0, gamma=0 ...................................\n",
        "[GridSearchCV] .......... kernel=poly, C=100.0, gamma=0, score=0.893333 -   0.0s\n",
        "[GridSearchCV] kernel=poly, C=100.0, gamma=0 ...................................\n",
        "[GridSearchCV] .......... kernel=poly, C=100.0, gamma=0, score=0.846667 -   0.0s\n",
        "[GridSearchCV] kernel=poly, C=100.0, gamma=1 ...................................\n",
        "[GridSearchCV] .......... kernel=poly, C=100.0, gamma=1, score=0.860000 -   0.0s"
       ]
      },
      {
       "output_type": "stream",
       "stream": "stdout",
       "text": [
        "\n",
        "[GridSearchCV] kernel=poly, C=100.0, gamma=1 ...................................\n",
        "[GridSearchCV] .......... kernel=poly, C=100.0, gamma=1, score=0.880000 -   0.0s\n",
        "[GridSearchCV] kernel=poly, C=100.0, gamma=1 ...................................\n",
        "[GridSearchCV] .......... kernel=poly, C=100.0, gamma=1, score=0.860000 -   0.0s\n",
        "[GridSearchCV] kernel=poly, C=100.0, gamma=10 ..................................\n",
        "[GridSearchCV] ......... kernel=poly, C=100.0, gamma=10, score=0.860000 -   0.0s"
       ]
      },
      {
       "output_type": "stream",
       "stream": "stdout",
       "text": [
        "\n",
        "[GridSearchCV] kernel=poly, C=100.0, gamma=10 ..................................\n",
        "[GridSearchCV] ......... kernel=poly, C=100.0, gamma=10, score=0.880000 -   0.0s\n",
        "[GridSearchCV] kernel=poly, C=100.0, gamma=10 ..................................\n",
        "[GridSearchCV] ......... kernel=poly, C=100.0, gamma=10, score=0.860000 -   0.0s\n",
        "[GridSearchCV] kernel=poly, C=100.0, gamma=100 .................................\n",
        "[GridSearchCV] ........ kernel=poly, C=100.0, gamma=100, score=0.860000 -   0.0s"
       ]
      },
      {
       "output_type": "stream",
       "stream": "stdout",
       "text": [
        "\n",
        "[GridSearchCV] kernel=poly, C=100.0, gamma=100 .................................\n",
        "[GridSearchCV] ........ kernel=poly, C=100.0, gamma=100, score=0.880000 -   0.0s\n",
        "[GridSearchCV] kernel=poly, C=100.0, gamma=100 .................................\n",
        "[GridSearchCV] ........ kernel=poly, C=100.0, gamma=100, score=0.860000 -   0.0s\n",
        "[GridSearchCV] kernel=poly, C=100.0, gamma=1000 ................................\n",
        "[GridSearchCV] ....... kernel=poly, C=100.0, gamma=1000, score=0.860000 -   0.0s"
       ]
      },
      {
       "output_type": "stream",
       "stream": "stdout",
       "text": [
        "\n",
        "[GridSearchCV] kernel=poly, C=100.0, gamma=1000 ................................\n",
        "[GridSearchCV] ....... kernel=poly, C=100.0, gamma=1000, score=0.880000 -   0.0s\n",
        "[GridSearchCV] kernel=poly, C=100.0, gamma=1000 ................................\n",
        "[GridSearchCV] ....... kernel=poly, C=100.0, gamma=1000, score=0.860000 -   0.0s\n",
        "[GridSearchCV] kernel=poly, C=1000.0, gamma=0 ..................................\n",
        "[GridSearchCV] ......... kernel=poly, C=1000.0, gamma=0, score=0.860000 -   0.0s"
       ]
      },
      {
       "output_type": "stream",
       "stream": "stdout",
       "text": [
        "\n",
        "[GridSearchCV] kernel=poly, C=1000.0, gamma=0 ..................................\n",
        "[GridSearchCV] ......... kernel=poly, C=1000.0, gamma=0, score=0.880000 -   0.0s\n",
        "[GridSearchCV] kernel=poly, C=1000.0, gamma=0 ..................................\n",
        "[GridSearchCV] ......... kernel=poly, C=1000.0, gamma=0, score=0.860000 -   0.0s\n",
        "[GridSearchCV] kernel=poly, C=1000.0, gamma=0 ..................................\n",
        "[GridSearchCV] ......... kernel=poly, C=1000.0, gamma=0, score=0.860000 -   0.0s"
       ]
      },
      {
       "output_type": "stream",
       "stream": "stdout",
       "text": [
        "\n",
        "[GridSearchCV] kernel=poly, C=1000.0, gamma=0 ..................................\n",
        "[GridSearchCV] ......... kernel=poly, C=1000.0, gamma=0, score=0.880000 -   0.0s\n",
        "[GridSearchCV] kernel=poly, C=1000.0, gamma=0 ..................................\n",
        "[GridSearchCV] ......... kernel=poly, C=1000.0, gamma=0, score=0.860000 -   0.0s\n",
        "[GridSearchCV] kernel=poly, C=1000.0, gamma=0 ..................................\n",
        "[GridSearchCV] ......... kernel=poly, C=1000.0, gamma=0, score=0.860000 -   0.0s"
       ]
      },
      {
       "output_type": "stream",
       "stream": "stdout",
       "text": [
        "\n",
        "[GridSearchCV] kernel=poly, C=1000.0, gamma=0 ..................................\n",
        "[GridSearchCV] ......... kernel=poly, C=1000.0, gamma=0, score=0.880000 -   0.0s\n",
        "[GridSearchCV] kernel=poly, C=1000.0, gamma=0 ..................................\n",
        "[GridSearchCV] ......... kernel=poly, C=1000.0, gamma=0, score=0.860000 -   0.0s\n",
        "[GridSearchCV] kernel=poly, C=1000.0, gamma=0 ..................................\n",
        "[GridSearchCV] ......... kernel=poly, C=1000.0, gamma=0, score=0.860000 -   0.0s"
       ]
      },
      {
       "output_type": "stream",
       "stream": "stdout",
       "text": [
        "\n",
        "[GridSearchCV] kernel=poly, C=1000.0, gamma=0 ..................................\n",
        "[GridSearchCV] ......... kernel=poly, C=1000.0, gamma=0, score=0.880000 -   0.0s\n",
        "[GridSearchCV] kernel=poly, C=1000.0, gamma=0 ..................................\n",
        "[GridSearchCV] ......... kernel=poly, C=1000.0, gamma=0, score=0.860000 -   0.0s\n",
        "[GridSearchCV] kernel=poly, C=1000.0, gamma=1 ..................................\n",
        "[GridSearchCV] ......... kernel=poly, C=1000.0, gamma=1, score=0.860000 -   0.0s"
       ]
      },
      {
       "output_type": "stream",
       "stream": "stdout",
       "text": [
        "\n",
        "[GridSearchCV] kernel=poly, C=1000.0, gamma=1 ..................................\n",
        "[GridSearchCV] ......... kernel=poly, C=1000.0, gamma=1, score=0.880000 -   0.0s\n",
        "[GridSearchCV] kernel=poly, C=1000.0, gamma=1 ..................................\n",
        "[GridSearchCV] ......... kernel=poly, C=1000.0, gamma=1, score=0.860000 -   0.0s\n",
        "[GridSearchCV] kernel=poly, C=1000.0, gamma=10 .................................\n",
        "[GridSearchCV] ........ kernel=poly, C=1000.0, gamma=10, score=0.860000 -   0.0s"
       ]
      },
      {
       "output_type": "stream",
       "stream": "stdout",
       "text": [
        "\n",
        "[GridSearchCV] kernel=poly, C=1000.0, gamma=10 .................................\n",
        "[GridSearchCV] ........ kernel=poly, C=1000.0, gamma=10, score=0.880000 -   0.0s\n",
        "[GridSearchCV] kernel=poly, C=1000.0, gamma=10 .................................\n",
        "[GridSearchCV] ........ kernel=poly, C=1000.0, gamma=10, score=0.860000 -   0.0s\n",
        "[GridSearchCV] kernel=poly, C=1000.0, gamma=100 ................................\n",
        "[GridSearchCV] ....... kernel=poly, C=1000.0, gamma=100, score=0.860000 -   0.0s"
       ]
      },
      {
       "output_type": "stream",
       "stream": "stdout",
       "text": [
        "\n",
        "[GridSearchCV] kernel=poly, C=1000.0, gamma=100 ................................\n",
        "[GridSearchCV] ....... kernel=poly, C=1000.0, gamma=100, score=0.880000 -   0.0s\n",
        "[GridSearchCV] kernel=poly, C=1000.0, gamma=100 ................................\n",
        "[GridSearchCV] ....... kernel=poly, C=1000.0, gamma=100, score=0.860000 -   0.0s\n",
        "[GridSearchCV] kernel=poly, C=1000.0, gamma=1000 ...............................\n",
        "[GridSearchCV] ...... kernel=poly, C=1000.0, gamma=1000, score=0.860000 -   0.0s"
       ]
      },
      {
       "output_type": "stream",
       "stream": "stderr",
       "text": [
        "[Parallel(n_jobs=1)]: Done 128 jobs       | elapsed:    2.2s\n",
        "[Parallel(n_jobs=1)]: Done 168 out of 168 | elapsed:    3.0s finished\n"
       ]
      },
      {
       "output_type": "stream",
       "stream": "stdout",
       "text": [
        "\n",
        "[GridSearchCV] kernel=poly, C=1000.0, gamma=1000 ...............................\n",
        "[GridSearchCV] ...... kernel=poly, C=1000.0, gamma=1000, score=0.880000 -   0.0s\n",
        "[GridSearchCV] kernel=poly, C=1000.0, gamma=1000 ...............................\n",
        "[GridSearchCV] ...... kernel=poly, C=1000.0, gamma=1000, score=0.860000 -   0.0s\n"
       ]
      },
      {
       "metadata": {},
       "output_type": "pyout",
       "prompt_number": 32,
       "text": [
        "GridSearchCV(cv=sklearn.cross_validation.StratifiedKFold(labels=[ 0.  0. ...,  0.  1.], n_folds=3),\n",
        "       estimator=SVC(C=1.0, cache_size=200, class_weight=None, coef0=0.0, degree=3, gamma=0.0,\n",
        "  kernel='rbf', max_iter=-1, probability=False, random_state=None,\n",
        "  shrinking=True, tol=0.001, verbose=False),\n",
        "       fit_params={}, iid=True, loss_func=None, n_jobs=1,\n",
        "       param_grid=[{'kernel': ['poly'], 'C': array([  1.00000e-03,   1.00000e-02,   1.00000e-01,   1.00000e+00,\n",
        "         1.00000e+01,   1.00000e+02,   1.00000e+03]), 'gamma': array([   0,    0,    0,    0,    1,   10,  100, 1000])}],\n",
        "       pre_dispatch='2*n_jobs', refit=True, score_func=None, scoring=None,\n",
        "       verbose=3)"
       ]
      }
     ],
     "prompt_number": 32
    },
    {
     "cell_type": "code",
     "collapsed": false,
     "input": [],
     "language": "python",
     "metadata": {},
     "outputs": [],
     "prompt_number": 3
    },
    {
     "cell_type": "code",
     "collapsed": false,
     "input": [],
     "language": "python",
     "metadata": {},
     "outputs": []
    },
    {
     "cell_type": "code",
     "collapsed": false,
     "input": [],
     "language": "python",
     "metadata": {},
     "outputs": []
    },
    {
     "cell_type": "code",
     "collapsed": false,
     "input": [],
     "language": "python",
     "metadata": {},
     "outputs": []
    },
    {
     "cell_type": "code",
     "collapsed": false,
     "input": [
      "##"
     ],
     "language": "python",
     "metadata": {},
     "outputs": []
    },
    {
     "cell_type": "code",
     "collapsed": false,
     "input": [],
     "language": "python",
     "metadata": {},
     "outputs": [],
     "prompt_number": 16
    },
    {
     "cell_type": "code",
     "collapsed": false,
     "input": [],
     "language": "python",
     "metadata": {},
     "outputs": []
    }
   ],
   "metadata": {}
  }
 ]
}