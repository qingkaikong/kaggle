{
 "metadata": {
  "name": ""
 },
 "nbformat": 3,
 "nbformat_minor": 0,
 "worksheets": [
  {
   "cells": [
    {
     "cell_type": "code",
     "collapsed": false,
     "input": [
      "from numpy import genfromtxt\n",
      "import numpy as np\n",
      "import matplotlib.pyplot as plt"
     ],
     "language": "python",
     "metadata": {},
     "outputs": [],
     "prompt_number": 1
    },
    {
     "cell_type": "markdown",
     "metadata": {},
     "source": [
      "###Read in training data and label"
     ]
    },
    {
     "cell_type": "code",
     "collapsed": false,
     "input": [
      "def load_data(filename):\n",
      "    \"\"\" Load CSV into numpy array \"\"\"\n",
      "    return np.genfromtxt(open(filename,'rb'), delimiter=',')\n",
      "\n",
      "def predict(clf, features):\n",
      "    \"\"\" Predict labels from trained CLF \"\"\"\n",
      "    return clf.predict(features).astype(np.int)\n",
      "\n",
      "def show_score(clf, X_test, y_test):\n",
      "    \"\"\" Scores are computed on the test set \"\"\"\n",
      "    y_pred = predict(clf, X_test)\n",
      "    print metrics.classification_report(y_test.astype(np.int), y_pred)\n"
     ],
     "language": "python",
     "metadata": {},
     "outputs": [],
     "prompt_number": 2
    },
    {
     "cell_type": "code",
     "collapsed": false,
     "input": [
      "X = load_data('./data/train.csv')\n",
      "y = load_data('./data/trainLabels.csv')\n",
      "test = load_data('./data/test.csv')"
     ],
     "language": "python",
     "metadata": {},
     "outputs": [],
     "prompt_number": 3
    },
    {
     "cell_type": "code",
     "collapsed": false,
     "input": [
      "print X.shape\n",
      "print y.shape\n",
      "print test.shape"
     ],
     "language": "python",
     "metadata": {},
     "outputs": [
      {
       "output_type": "stream",
       "stream": "stdout",
       "text": [
        "(1000, 40)\n",
        "(1000,)\n",
        "(9000, 40)\n"
       ]
      }
     ],
     "prompt_number": 4
    },
    {
     "cell_type": "markdown",
     "metadata": {},
     "source": [
      "###Plot the first two main features with label (using PCA to find the two important features)"
     ]
    },
    {
     "cell_type": "code",
     "collapsed": false,
     "input": [
      "from sklearn.decomposition import PCA"
     ],
     "language": "python",
     "metadata": {},
     "outputs": [],
     "prompt_number": 5
    },
    {
     "cell_type": "code",
     "collapsed": false,
     "input": [
      "pca = PCA(n_components=2)\n",
      "pca.fit(X)\n",
      "X_pca = pca.transform(X)\n",
      "X_pca.shape"
     ],
     "language": "python",
     "metadata": {},
     "outputs": [
      {
       "metadata": {},
       "output_type": "pyout",
       "prompt_number": 6,
       "text": [
        "(1000, 2)"
       ]
      }
     ],
     "prompt_number": 6
    },
    {
     "cell_type": "code",
     "collapsed": false,
     "input": [
      "plt.scatter(X_pca[:,0], X_pca[:,1], c = y, marker = 'o')\n",
      "plt.show()"
     ],
     "language": "python",
     "metadata": {},
     "outputs": [],
     "prompt_number": 8
    },
    {
     "cell_type": "code",
     "collapsed": false,
     "input": [
      "##Isomap\n",
      "from sklearn.manifold import Isomap"
     ],
     "language": "python",
     "metadata": {},
     "outputs": [],
     "prompt_number": 9
    },
    {
     "cell_type": "code",
     "collapsed": false,
     "input": [
      "isomap = Isomap(n_components=2, n_neighbors=20)\n",
      "isomap.fit(X)\n",
      "X_isomap = isomap.transform(X)"
     ],
     "language": "python",
     "metadata": {},
     "outputs": [],
     "prompt_number": 10
    },
    {
     "cell_type": "code",
     "collapsed": false,
     "input": [
      "plt.scatter(X_isomap[:,0], X_isomap[:,1], c = y, marker = 'o')\n",
      "plt.show()"
     ],
     "language": "python",
     "metadata": {},
     "outputs": [],
     "prompt_number": 12
    },
    {
     "cell_type": "markdown",
     "metadata": {},
     "source": [
      "###Try SVM with different kernel without pre-processing data"
     ]
    },
    {
     "cell_type": "code",
     "collapsed": false,
     "input": [
      "from sklearn import svm\n",
      "#from sklearn import metrics\n",
      "from sklearn.cross_validation import train_test_split"
     ],
     "language": "python",
     "metadata": {},
     "outputs": [],
     "prompt_number": 7
    },
    {
     "cell_type": "code",
     "collapsed": false,
     "input": [
      "def divid_data(X_, y_):\n",
      "    #randomly divide the data into train and test set, the test size is 10% of the whole dataset\n",
      "    X_train, X_test, y_train, y_test = train_test_split(X_, y_, test_size=0.1)\n",
      "    return X_train, y_train, X_test, y_test"
     ],
     "language": "python",
     "metadata": {},
     "outputs": [],
     "prompt_number": 8
    },
    {
     "cell_type": "code",
     "collapsed": false,
     "input": [
      "X_train, y_train, X_test, y_test = divid_data(X, y)\n",
      "\n",
      "# fit the model with different kernels\n",
      "for fig_num, kernel in enumerate(('linear', 'rbf', 'poly')):\n",
      "    clf = svm.SVC(kernel=kernel, gamma=10)\n",
      "    print('svm with ' + kernel + ' kernel score: %f' % clf.fit(X_train, y_train).score(X_test, y_test))\n"
     ],
     "language": "python",
     "metadata": {},
     "outputs": [
      {
       "output_type": "stream",
       "stream": "stdout",
       "text": [
        "svm with linear kernel score: 0.750000\n",
        "svm with rbf kernel score: 0.450000"
       ]
      },
      {
       "output_type": "stream",
       "stream": "stdout",
       "text": [
        "\n",
        "svm with poly kernel score: 0.860000\n"
       ]
      }
     ],
     "prompt_number": 9
    },
    {
     "cell_type": "markdown",
     "metadata": {},
     "source": [
      "###Now let's pre-process data "
     ]
    },
    {
     "cell_type": "markdown",
     "metadata": {},
     "source": [
      "#####Standarization (zero mean and unit variance)"
     ]
    },
    {
     "cell_type": "code",
     "collapsed": false,
     "input": [
      "#Standardization of datasets is a common requirement for many machine learning estimators\n",
      "#Scale the data to make it zero mean and unit standard deviation\n",
      "#######This seems not working quite as expected, the results actually is worse than the raw data\n",
      "from sklearn import preprocessing\n",
      "X_scaled = preprocessing.scale(X)\n",
      "\n",
      "X_train, y_train, X_test, y_test = divid_data(X_scaled, y)\n",
      "\n",
      "# fit the model with different kernels\n",
      "for fig_num, kernel in enumerate(('linear', 'rbf', 'poly')):\n",
      "    clf = svm.SVC(kernel=kernel, gamma=10)\n",
      "    print('svm with ' + kernel + ' kernel score: %f' % clf.fit(X_train, y_train).score(X_test, y_test))"
     ],
     "language": "python",
     "metadata": {},
     "outputs": [
      {
       "output_type": "stream",
       "stream": "stdout",
       "text": [
        "svm with linear kernel score: 0.820000\n",
        "svm with rbf kernel score: 0.550000"
       ]
      },
      {
       "output_type": "stream",
       "stream": "stdout",
       "text": [
        "\n",
        "svm with poly kernel score: 0.820000"
       ]
      },
      {
       "output_type": "stream",
       "stream": "stdout",
       "text": [
        "\n"
       ]
      }
     ],
     "prompt_number": 58
    },
    {
     "cell_type": "markdown",
     "metadata": {},
     "source": [
      "#####Scale data to [0,1]"
     ]
    },
    {
     "cell_type": "code",
     "collapsed": false,
     "input": [
      "#Now let's try to scale the data to [0,1], not working quite well too. \n",
      "min_max_scaler = preprocessing.MinMaxScaler()\n",
      "X_train_minmax = min_max_scaler.fit_transform(X)\n",
      "\n",
      "X_train, y_train, X_test, y_test = divid_data(X_train_minmax, y)\n",
      "\n",
      "# fit the model with different kernels\n",
      "for fig_num, kernel in enumerate(('linear', 'rbf', 'poly')):\n",
      "    clf = svm.SVC(kernel=kernel, gamma=10)\n",
      "    print('svm with ' + kernel + ' kernel score: %f' % clf.fit(X_train, y_train).score(X_test, y_test))"
     ],
     "language": "python",
     "metadata": {},
     "outputs": [
      {
       "output_type": "stream",
       "stream": "stdout",
       "text": [
        "svm with linear kernel score: 0.840000\n",
        "svm with rbf kernel score: 0.460000"
       ]
      },
      {
       "output_type": "stream",
       "stream": "stdout",
       "text": [
        "\n",
        "svm with poly kernel score: 0.860000"
       ]
      },
      {
       "output_type": "stream",
       "stream": "stdout",
       "text": [
        "\n"
       ]
      }
     ],
     "prompt_number": 60
    },
    {
     "cell_type": "markdown",
     "metadata": {},
     "source": [
      "#####Whitenning data using PCA"
     ]
    },
    {
     "cell_type": "code",
     "collapsed": false,
     "input": [
      "#It is sometimes not enough to center and scale the features independently, since a downstream model can \n",
      "#further make some assumption on the linear independence of the features.\n",
      "#To address this issue you can use sklearn.decomposition.PCA or sklearn.decomposition.RandomizedPCA \n",
      "#with whiten=True to further remove the linear correlation across features.\n",
      "\n",
      "def decomposition_pca(train, test):\n",
      "    \"\"\" Linear dimensionality reduction \"\"\"\n",
      "    pca = PCA(n_components=12, whiten=True)\n",
      "    train_pca = pca.fit_transform(train)\n",
      "    test_pca = pca.transform(test)\n",
      "    return train_pca, test_pca\n",
      "\n"
     ],
     "language": "python",
     "metadata": {},
     "outputs": [],
     "prompt_number": 61
    },
    {
     "cell_type": "code",
     "collapsed": false,
     "input": [
      "X_data, test_data = decomposition_pca(X, test)\n",
      "X_train, y_train, X_test, y_test = divid_data(X_data, y)\n",
      "\n",
      "# fit the model with different kernels\n",
      "for fig_num, kernel in enumerate(('linear', 'rbf', 'poly')):\n",
      "    clf = svm.SVC(kernel=kernel, gamma=10)\n",
      "    print('svm with ' + kernel + ' kernel score: %f' % clf.fit(X_train, y_train).score(X_test, y_test))"
     ],
     "language": "python",
     "metadata": {},
     "outputs": [
      {
       "output_type": "stream",
       "stream": "stdout",
       "text": [
        "svm with linear kernel score: 0.840000\n",
        "svm with rbf kernel score: 0.570000"
       ]
      },
      {
       "output_type": "stream",
       "stream": "stdout",
       "text": [
        "\n",
        "svm with poly kernel score: 0.840000"
       ]
      },
      {
       "output_type": "stream",
       "stream": "stdout",
       "text": [
        "\n"
       ]
      }
     ],
     "prompt_number": 64
    },
    {
     "cell_type": "markdown",
     "metadata": {},
     "source": [
      "##let's measure performance of a model using cross-validation"
     ]
    },
    {
     "cell_type": "code",
     "collapsed": false,
     "input": [
      "from sklearn.cross_validation import cross_val_score"
     ],
     "language": "python",
     "metadata": {},
     "outputs": [],
     "prompt_number": 11
    },
    {
     "cell_type": "code",
     "collapsed": false,
     "input": [
      "X_train, y_train, X_test, y_test = divid_data(X, y)\n",
      "\n",
      "# fit the model with different kernels\n",
      "for fig_num, kernel in enumerate(('linear', 'rbf', 'poly')):\n",
      "    clf = svm.SVC(kernel=kernel, gamma=10)\n",
      "    scores = cross_val_score(clf, X_train, y_train, cv=5)\n",
      "    print(\"svm with \" + kernel + \" kernel scores: %s mean: %f std: %f\" %(str(scores), np.mean(scores), np.std(scores)))\n",
      "    #print('svm with ' + kernel + ' kernel score: %f' % clf.fit(X_train, y_train).score(X_test, y_test))"
     ],
     "language": "python",
     "metadata": {},
     "outputs": [
      {
       "output_type": "stream",
       "stream": "stdout",
       "text": [
        "svm with linear kernel scores: [ 0.8         0.81666667  0.83888889  0.83888889  0.80555556] mean: 0.820000 std: 0.016330\n",
        "svm with rbf kernel scores: [ 0.51111111  0.51111111  0.51111111  0.51111111  0.51666667] mean: 0.512222 std: 0.002222"
       ]
      },
      {
       "output_type": "stream",
       "stream": "stdout",
       "text": [
        "\n",
        "svm with poly kernel scores: [ 0.86666667  0.85555556  0.85555556  0.9         0.85      ] mean: 0.865556 std: 0.018053"
       ]
      },
      {
       "output_type": "stream",
       "stream": "stdout",
       "text": [
        "\n"
       ]
      }
     ],
     "prompt_number": 16
    },
    {
     "cell_type": "markdown",
     "metadata": {},
     "source": [
      "##Let's use grid search method to find the best gamma for a poly kernel svm"
     ]
    },
    {
     "cell_type": "code",
     "collapsed": false,
     "input": [
      "from sklearn.grid_search import GridSearchCV"
     ],
     "language": "python",
     "metadata": {},
     "outputs": [],
     "prompt_number": 17
    },
    {
     "cell_type": "code",
     "collapsed": false,
     "input": [
      "param_grid = {'C': 10.** np.arange(-3, 4)}\n",
      "svm_poly = svm.SVC(kernel='poly', gamma=10)\n",
      "grid_search = GridSearchCV(svm_poly, param_grid = param_grid, cv=3, verbose=3)"
     ],
     "language": "python",
     "metadata": {},
     "outputs": [],
     "prompt_number": 27
    },
    {
     "cell_type": "code",
     "collapsed": false,
     "input": [
      "grid_search.fit(X_train, y_train)"
     ],
     "language": "python",
     "metadata": {},
     "outputs": [
      {
       "output_type": "stream",
       "stream": "stdout",
       "text": [
        "Fitting 3 folds for each of 7 candidates, totalling 21 fits\n",
        "[GridSearchCV] C=0.001 .........................................................\n",
        "[GridSearchCV] ................................ C=0.001, score=0.856667 -   0.0s\n",
        "[GridSearchCV] C=0.001 .........................................................\n",
        "[GridSearchCV] ................................ C=0.001, score=0.823333 -   0.0s"
       ]
      },
      {
       "output_type": "stream",
       "stream": "stdout",
       "text": [
        "\n",
        "[GridSearchCV] C=0.001 .........................................................\n",
        "[GridSearchCV] ................................ C=0.001, score=0.873333 -   0.0s\n",
        "[GridSearchCV] C=0.01 ..........................................................\n",
        "[GridSearchCV] ................................. C=0.01, score=0.856667 -   0.0s"
       ]
      },
      {
       "output_type": "stream",
       "stream": "stdout",
       "text": [
        "\n",
        "[GridSearchCV] C=0.01 ..........................................................\n",
        "[GridSearchCV] ................................. C=0.01, score=0.823333 -   0.0s\n",
        "[GridSearchCV] C=0.01 ..........................................................\n",
        "[GridSearchCV] ................................. C=0.01, score=0.873333 -   0.0s"
       ]
      },
      {
       "output_type": "stream",
       "stream": "stdout",
       "text": [
        "\n",
        "[GridSearchCV] C=0.1 ...........................................................\n",
        "[GridSearchCV] .................................. C=0.1, score=0.856667 -   0.0s\n",
        "[GridSearchCV] C=0.1 ...........................................................\n",
        "[GridSearchCV] .................................. C=0.1, score=0.823333 -   0.0s"
       ]
      },
      {
       "output_type": "stream",
       "stream": "stdout",
       "text": [
        "\n",
        "[GridSearchCV] C=0.1 ...........................................................\n",
        "[GridSearchCV] .................................. C=0.1, score=0.873333 -   0.0s\n",
        "[GridSearchCV] C=1.0 ...........................................................\n",
        "[GridSearchCV] .................................. C=1.0, score=0.856667 -   0.0s"
       ]
      },
      {
       "output_type": "stream",
       "stream": "stdout",
       "text": [
        "\n",
        "[GridSearchCV] C=1.0 ...........................................................\n",
        "[GridSearchCV] .................................. C=1.0, score=0.823333 -   0.0s\n",
        "[GridSearchCV] C=1.0 ...........................................................\n",
        "[GridSearchCV] .................................. C=1.0, score=0.873333 -   0.0s"
       ]
      },
      {
       "output_type": "stream",
       "stream": "stdout",
       "text": [
        "\n",
        "[GridSearchCV] C=10.0 ..........................................................\n",
        "[GridSearchCV] ................................. C=10.0, score=0.856667 -   0.0s\n",
        "[GridSearchCV] C=10.0 ..........................................................\n",
        "[GridSearchCV] ................................. C=10.0, score=0.823333 -   0.0s"
       ]
      },
      {
       "output_type": "stream",
       "stream": "stdout",
       "text": [
        "\n",
        "[GridSearchCV] C=10.0 ..........................................................\n",
        "[GridSearchCV] ................................. C=10.0, score=0.873333 -   0.0s\n",
        "[GridSearchCV] C=100.0 .........................................................\n",
        "[GridSearchCV] ................................ C=100.0, score=0.856667 -   0.0s"
       ]
      },
      {
       "output_type": "stream",
       "stream": "stdout",
       "text": [
        "\n",
        "[GridSearchCV] C=100.0 .........................................................\n",
        "[GridSearchCV] ................................ C=100.0, score=0.823333 -   0.0s\n",
        "[GridSearchCV] C=100.0 .........................................................\n",
        "[GridSearchCV] ................................ C=100.0, score=0.873333 -   0.0s"
       ]
      },
      {
       "output_type": "stream",
       "stream": "stdout",
       "text": [
        "\n",
        "[GridSearchCV] C=1000.0 ........................................................\n",
        "[GridSearchCV] ............................... C=1000.0, score=0.856667 -   0.0s\n",
        "[GridSearchCV] C=1000.0 ........................................................\n",
        "[GridSearchCV] ............................... C=1000.0, score=0.823333 -   0.0s"
       ]
      },
      {
       "output_type": "stream",
       "stream": "stderr",
       "text": [
        "[Parallel(n_jobs=1)]: Done   1 jobs       | elapsed:    0.0s\n",
        "[Parallel(n_jobs=1)]: Done  21 out of  21 | elapsed:    0.6s finished\n"
       ]
      },
      {
       "output_type": "stream",
       "stream": "stdout",
       "text": [
        "\n",
        "[GridSearchCV] C=1000.0 ........................................................\n",
        "[GridSearchCV] ............................... C=1000.0, score=0.873333 -   0.0s\n"
       ]
      },
      {
       "metadata": {},
       "output_type": "pyout",
       "prompt_number": 28,
       "text": [
        "GridSearchCV(cv=3,\n",
        "       estimator=SVC(C=1.0, cache_size=200, class_weight=None, coef0=0.0, degree=3, gamma=10,\n",
        "  kernel='poly', max_iter=-1, probability=False, random_state=None,\n",
        "  shrinking=True, tol=0.001, verbose=False),\n",
        "       fit_params={}, iid=True, loss_func=None, n_jobs=1,\n",
        "       param_grid={'C': array([  1.00000e-03,   1.00000e-02,   1.00000e-01,   1.00000e+00,\n",
        "         1.00000e+01,   1.00000e+02,   1.00000e+03])},\n",
        "       pre_dispatch='2*n_jobs', refit=True, score_func=None, scoring=None,\n",
        "       verbose=3)"
       ]
      }
     ],
     "prompt_number": 28
    },
    {
     "cell_type": "markdown",
     "metadata": {},
     "source": [
      "###Now let's try to grid search two parameters"
     ]
    },
    {
     "cell_type": "code",
     "collapsed": false,
     "input": [
      "gamma_range = 10 ** np.arange(-4,-1,1)\n",
      "C_range = 10.0 ** np.arange(7,-1,-1)\n",
      "param_grid = dict(gamma=gamma_range,C=C_range)\n",
      "svm_poly = svm.SVC(kernel='poly')\n",
      "grid_search = GridSearchCV(svm_poly, param_grid = param_grid, cv=3, verbose=3)"
     ],
     "language": "python",
     "metadata": {},
     "outputs": [],
     "prompt_number": 31
    },
    {
     "cell_type": "code",
     "collapsed": false,
     "input": [
      "grid_search.fit(X_train, y_train)"
     ],
     "language": "python",
     "metadata": {},
     "outputs": [
      {
       "output_type": "stream",
       "stream": "stdout",
       "text": [
        "Fitting 3 folds for each of 24 candidates, totalling 72 fits\n",
        "[GridSearchCV] C=10000000.0, gamma=0 ...........................................\n",
        "[GridSearchCV] .................. C=10000000.0, gamma=0, score=0.856667 -   0.0s\n",
        "[GridSearchCV] C=10000000.0, gamma=0 ...........................................\n",
        "[GridSearchCV] .................. C=10000000.0, gamma=0, score=0.823333 -   0.0s"
       ]
      },
      {
       "output_type": "stream",
       "stream": "stdout",
       "text": [
        "\n",
        "[GridSearchCV] C=10000000.0, gamma=0 ...........................................\n",
        "[GridSearchCV] .................. C=10000000.0, gamma=0, score=0.873333 -   0.0s\n",
        "[GridSearchCV] C=10000000.0, gamma=0 ...........................................\n",
        "[GridSearchCV] .................. C=10000000.0, gamma=0, score=0.856667 -   0.0s"
       ]
      },
      {
       "output_type": "stream",
       "stream": "stdout",
       "text": [
        "\n",
        "[GridSearchCV] C=10000000.0, gamma=0 ...........................................\n",
        "[GridSearchCV] .................. C=10000000.0, gamma=0, score=0.823333 -   0.0s\n",
        "[GridSearchCV] C=10000000.0, gamma=0 ...........................................\n",
        "[GridSearchCV] .................. C=10000000.0, gamma=0, score=0.873333 -   0.0s"
       ]
      },
      {
       "output_type": "stream",
       "stream": "stdout",
       "text": [
        "\n",
        "[GridSearchCV] C=10000000.0, gamma=0 ...........................................\n",
        "[GridSearchCV] .................. C=10000000.0, gamma=0, score=0.856667 -   0.0s\n",
        "[GridSearchCV] C=10000000.0, gamma=0 ...........................................\n",
        "[GridSearchCV] .................. C=10000000.0, gamma=0, score=0.823333 -   0.0s"
       ]
      },
      {
       "output_type": "stream",
       "stream": "stdout",
       "text": [
        "\n",
        "[GridSearchCV] C=10000000.0, gamma=0 ...........................................\n",
        "[GridSearchCV] .................. C=10000000.0, gamma=0, score=0.873333 -   0.0s\n",
        "[GridSearchCV] C=1000000.0, gamma=0 ............................................\n",
        "[GridSearchCV] ................... C=1000000.0, gamma=0, score=0.856667 -   0.0s"
       ]
      },
      {
       "output_type": "stream",
       "stream": "stdout",
       "text": [
        "\n",
        "[GridSearchCV] C=1000000.0, gamma=0 ............................................\n",
        "[GridSearchCV] ................... C=1000000.0, gamma=0, score=0.823333 -   0.0s\n",
        "[GridSearchCV] C=1000000.0, gamma=0 ............................................\n",
        "[GridSearchCV] ................... C=1000000.0, gamma=0, score=0.873333 -   0.0s"
       ]
      },
      {
       "output_type": "stream",
       "stream": "stdout",
       "text": [
        "\n",
        "[GridSearchCV] C=1000000.0, gamma=0 ............................................\n",
        "[GridSearchCV] ................... C=1000000.0, gamma=0, score=0.856667 -   0.0s\n",
        "[GridSearchCV] C=1000000.0, gamma=0 ............................................\n",
        "[GridSearchCV] ................... C=1000000.0, gamma=0, score=0.823333 -   0.0s"
       ]
      },
      {
       "output_type": "stream",
       "stream": "stdout",
       "text": [
        "\n",
        "[GridSearchCV] C=1000000.0, gamma=0 ............................................\n",
        "[GridSearchCV] ................... C=1000000.0, gamma=0, score=0.873333 -   0.0s\n",
        "[GridSearchCV] C=1000000.0, gamma=0 ............................................\n",
        "[GridSearchCV] ................... C=1000000.0, gamma=0, score=0.856667 -   0.0s"
       ]
      },
      {
       "output_type": "stream",
       "stream": "stdout",
       "text": [
        "\n",
        "[GridSearchCV] C=1000000.0, gamma=0 ............................................\n",
        "[GridSearchCV] ................... C=1000000.0, gamma=0, score=0.823333 -   0.0s\n",
        "[GridSearchCV] C=1000000.0, gamma=0 ............................................\n",
        "[GridSearchCV] ................... C=1000000.0, gamma=0, score=0.873333 -   0.0s"
       ]
      },
      {
       "output_type": "stream",
       "stream": "stdout",
       "text": [
        "\n",
        "[GridSearchCV] C=100000.0, gamma=0 .............................................\n",
        "[GridSearchCV] .................... C=100000.0, gamma=0, score=0.856667 -   0.0s\n",
        "[GridSearchCV] C=100000.0, gamma=0 .............................................\n",
        "[GridSearchCV] .................... C=100000.0, gamma=0, score=0.823333 -   0.0s"
       ]
      },
      {
       "output_type": "stream",
       "stream": "stdout",
       "text": [
        "\n",
        "[GridSearchCV] C=100000.0, gamma=0 .............................................\n",
        "[GridSearchCV] .................... C=100000.0, gamma=0, score=0.873333 -   0.0s\n",
        "[GridSearchCV] C=100000.0, gamma=0 .............................................\n",
        "[GridSearchCV] .................... C=100000.0, gamma=0, score=0.856667 -   0.0s"
       ]
      },
      {
       "output_type": "stream",
       "stream": "stdout",
       "text": [
        "\n",
        "[GridSearchCV] C=100000.0, gamma=0 .............................................\n",
        "[GridSearchCV] .................... C=100000.0, gamma=0, score=0.823333 -   0.0s\n",
        "[GridSearchCV] C=100000.0, gamma=0 .............................................\n",
        "[GridSearchCV] .................... C=100000.0, gamma=0, score=0.873333 -   0.0s"
       ]
      },
      {
       "output_type": "stream",
       "stream": "stdout",
       "text": [
        "\n",
        "[GridSearchCV] C=100000.0, gamma=0 .............................................\n",
        "[GridSearchCV] .................... C=100000.0, gamma=0, score=0.856667 -   0.0s\n",
        "[GridSearchCV] C=100000.0, gamma=0 .............................................\n",
        "[GridSearchCV] .................... C=100000.0, gamma=0, score=0.823333 -   0.0s"
       ]
      },
      {
       "output_type": "stream",
       "stream": "stdout",
       "text": [
        "\n",
        "[GridSearchCV] C=100000.0, gamma=0 .............................................\n",
        "[GridSearchCV] .................... C=100000.0, gamma=0, score=0.873333 -   0.0s\n",
        "[GridSearchCV] C=10000.0, gamma=0 ..............................................\n",
        "[GridSearchCV] ..................... C=10000.0, gamma=0, score=0.856667 -   0.0s"
       ]
      },
      {
       "output_type": "stream",
       "stream": "stdout",
       "text": [
        "\n",
        "[GridSearchCV] C=10000.0, gamma=0 ..............................................\n",
        "[GridSearchCV] ..................... C=10000.0, gamma=0, score=0.823333 -   0.0s\n",
        "[GridSearchCV] C=10000.0, gamma=0 ..............................................\n",
        "[GridSearchCV] ..................... C=10000.0, gamma=0, score=0.873333 -   0.0s"
       ]
      },
      {
       "output_type": "stream",
       "stream": "stdout",
       "text": [
        "\n",
        "[GridSearchCV] C=10000.0, gamma=0 ..............................................\n",
        "[GridSearchCV] ..................... C=10000.0, gamma=0, score=0.856667 -   0.0s\n",
        "[GridSearchCV] C=10000.0, gamma=0 ..............................................\n",
        "[GridSearchCV] ..................... C=10000.0, gamma=0, score=0.823333 -   0.0s"
       ]
      },
      {
       "output_type": "stream",
       "stream": "stderr",
       "text": [
        "[Parallel(n_jobs=1)]: Done   1 jobs       | elapsed:    0.0s\n",
        "[Parallel(n_jobs=1)]: Done  32 jobs       | elapsed:    0.9s\n"
       ]
      },
      {
       "output_type": "stream",
       "stream": "stdout",
       "text": [
        "\n",
        "[GridSearchCV] C=10000.0, gamma=0 ..............................................\n",
        "[GridSearchCV] ..................... C=10000.0, gamma=0, score=0.873333 -   0.0s\n",
        "[GridSearchCV] C=10000.0, gamma=0 ..............................................\n",
        "[GridSearchCV] ..................... C=10000.0, gamma=0, score=0.856667 -   0.0s"
       ]
      },
      {
       "output_type": "stream",
       "stream": "stdout",
       "text": [
        "\n",
        "[GridSearchCV] C=10000.0, gamma=0 ..............................................\n",
        "[GridSearchCV] ..................... C=10000.0, gamma=0, score=0.823333 -   0.0s\n",
        "[GridSearchCV] C=10000.0, gamma=0 ..............................................\n",
        "[GridSearchCV] ..................... C=10000.0, gamma=0, score=0.873333 -   0.0s"
       ]
      },
      {
       "output_type": "stream",
       "stream": "stdout",
       "text": [
        "\n",
        "[GridSearchCV] C=1000.0, gamma=0 ...............................................\n",
        "[GridSearchCV] ...................... C=1000.0, gamma=0, score=0.856667 -   0.0s\n",
        "[GridSearchCV] C=1000.0, gamma=0 ...............................................\n",
        "[GridSearchCV] ...................... C=1000.0, gamma=0, score=0.823333 -   0.0s"
       ]
      },
      {
       "output_type": "stream",
       "stream": "stdout",
       "text": [
        "\n",
        "[GridSearchCV] C=1000.0, gamma=0 ...............................................\n",
        "[GridSearchCV] ...................... C=1000.0, gamma=0, score=0.873333 -   0.0s\n",
        "[GridSearchCV] C=1000.0, gamma=0 ...............................................\n",
        "[GridSearchCV] ...................... C=1000.0, gamma=0, score=0.856667 -   0.0s"
       ]
      },
      {
       "output_type": "stream",
       "stream": "stdout",
       "text": [
        "\n",
        "[GridSearchCV] C=1000.0, gamma=0 ...............................................\n",
        "[GridSearchCV] ...................... C=1000.0, gamma=0, score=0.823333 -   0.0s\n",
        "[GridSearchCV] C=1000.0, gamma=0 ...............................................\n",
        "[GridSearchCV] ...................... C=1000.0, gamma=0, score=0.873333 -   0.0s"
       ]
      },
      {
       "output_type": "stream",
       "stream": "stdout",
       "text": [
        "\n",
        "[GridSearchCV] C=1000.0, gamma=0 ...............................................\n",
        "[GridSearchCV] ...................... C=1000.0, gamma=0, score=0.856667 -   0.0s\n",
        "[GridSearchCV] C=1000.0, gamma=0 ...............................................\n",
        "[GridSearchCV] ...................... C=1000.0, gamma=0, score=0.823333 -   0.0s"
       ]
      },
      {
       "output_type": "stream",
       "stream": "stdout",
       "text": [
        "\n",
        "[GridSearchCV] C=1000.0, gamma=0 ...............................................\n",
        "[GridSearchCV] ...................... C=1000.0, gamma=0, score=0.873333 -   0.0s\n",
        "[GridSearchCV] C=100.0, gamma=0 ................................................\n",
        "[GridSearchCV] ....................... C=100.0, gamma=0, score=0.856667 -   0.0s"
       ]
      },
      {
       "output_type": "stream",
       "stream": "stdout",
       "text": [
        "\n",
        "[GridSearchCV] C=100.0, gamma=0 ................................................\n",
        "[GridSearchCV] ....................... C=100.0, gamma=0, score=0.823333 -   0.0s\n",
        "[GridSearchCV] C=100.0, gamma=0 ................................................\n",
        "[GridSearchCV] ....................... C=100.0, gamma=0, score=0.873333 -   0.0s"
       ]
      },
      {
       "output_type": "stream",
       "stream": "stdout",
       "text": [
        "\n",
        "[GridSearchCV] C=100.0, gamma=0 ................................................\n",
        "[GridSearchCV] ....................... C=100.0, gamma=0, score=0.856667 -   0.0s\n",
        "[GridSearchCV] C=100.0, gamma=0 ................................................\n",
        "[GridSearchCV] ....................... C=100.0, gamma=0, score=0.823333 -   0.0s"
       ]
      },
      {
       "output_type": "stream",
       "stream": "stdout",
       "text": [
        "\n",
        "[GridSearchCV] C=100.0, gamma=0 ................................................\n",
        "[GridSearchCV] ....................... C=100.0, gamma=0, score=0.873333 -   0.0s\n",
        "[GridSearchCV] C=100.0, gamma=0 ................................................\n",
        "[GridSearchCV] ....................... C=100.0, gamma=0, score=0.856667 -   0.0s"
       ]
      },
      {
       "output_type": "stream",
       "stream": "stdout",
       "text": [
        "\n",
        "[GridSearchCV] C=100.0, gamma=0 ................................................\n",
        "[GridSearchCV] ....................... C=100.0, gamma=0, score=0.823333 -   0.0s\n",
        "[GridSearchCV] C=100.0, gamma=0 ................................................\n",
        "[GridSearchCV] ....................... C=100.0, gamma=0, score=0.873333 -   0.0s"
       ]
      },
      {
       "output_type": "stream",
       "stream": "stdout",
       "text": [
        "\n",
        "[GridSearchCV] C=10.0, gamma=0 .................................................\n",
        "[GridSearchCV] ........................ C=10.0, gamma=0, score=0.856667 -   0.0s\n",
        "[GridSearchCV] C=10.0, gamma=0 .................................................\n",
        "[GridSearchCV] ........................ C=10.0, gamma=0, score=0.823333 -   0.0s"
       ]
      },
      {
       "output_type": "stream",
       "stream": "stdout",
       "text": [
        "\n",
        "[GridSearchCV] C=10.0, gamma=0 .................................................\n",
        "[GridSearchCV] ........................ C=10.0, gamma=0, score=0.873333 -   0.0s\n",
        "[GridSearchCV] C=10.0, gamma=0 .................................................\n",
        "[GridSearchCV] ........................ C=10.0, gamma=0, score=0.856667 -   0.0s"
       ]
      },
      {
       "output_type": "stream",
       "stream": "stdout",
       "text": [
        "\n",
        "[GridSearchCV] C=10.0, gamma=0 .................................................\n",
        "[GridSearchCV] ........................ C=10.0, gamma=0, score=0.823333 -   0.0s\n",
        "[GridSearchCV] C=10.0, gamma=0 .................................................\n",
        "[GridSearchCV] ........................ C=10.0, gamma=0, score=0.873333 -   0.0s"
       ]
      },
      {
       "output_type": "stream",
       "stream": "stdout",
       "text": [
        "\n",
        "[GridSearchCV] C=10.0, gamma=0 .................................................\n",
        "[GridSearchCV] ........................ C=10.0, gamma=0, score=0.856667 -   0.0s\n",
        "[GridSearchCV] C=10.0, gamma=0 .................................................\n",
        "[GridSearchCV] ........................ C=10.0, gamma=0, score=0.823333 -   0.0s"
       ]
      },
      {
       "output_type": "stream",
       "stream": "stdout",
       "text": [
        "\n",
        "[GridSearchCV] C=10.0, gamma=0 .................................................\n",
        "[GridSearchCV] ........................ C=10.0, gamma=0, score=0.873333 -   0.0s\n",
        "[GridSearchCV] C=1.0, gamma=0 ..................................................\n",
        "[GridSearchCV] ......................... C=1.0, gamma=0, score=0.856667 -   0.0s"
       ]
      },
      {
       "output_type": "stream",
       "stream": "stdout",
       "text": [
        "\n",
        "[GridSearchCV] C=1.0, gamma=0 ..................................................\n",
        "[GridSearchCV] ......................... C=1.0, gamma=0, score=0.823333 -   0.0s\n",
        "[GridSearchCV] C=1.0, gamma=0 ..................................................\n",
        "[GridSearchCV] ......................... C=1.0, gamma=0, score=0.873333 -   0.0s"
       ]
      },
      {
       "output_type": "stream",
       "stream": "stdout",
       "text": [
        "\n",
        "[GridSearchCV] C=1.0, gamma=0 ..................................................\n",
        "[GridSearchCV] ......................... C=1.0, gamma=0, score=0.856667 -   0.0s\n",
        "[GridSearchCV] C=1.0, gamma=0 ..................................................\n",
        "[GridSearchCV] ......................... C=1.0, gamma=0, score=0.823333 -   0.0s"
       ]
      },
      {
       "output_type": "stream",
       "stream": "stdout",
       "text": [
        "\n",
        "[GridSearchCV] C=1.0, gamma=0 ..................................................\n",
        "[GridSearchCV] ......................... C=1.0, gamma=0, score=0.873333 -   0.0s\n",
        "[GridSearchCV] C=1.0, gamma=0 ..................................................\n",
        "[GridSearchCV] ......................... C=1.0, gamma=0, score=0.856667 -   0.0s"
       ]
      },
      {
       "output_type": "stream",
       "stream": "stdout",
       "text": [
        "\n",
        "[GridSearchCV] C=1.0, gamma=0 ..................................................\n",
        "[GridSearchCV] ......................... C=1.0, gamma=0, score=0.823333 -   0.0s\n",
        "[GridSearchCV] C=1.0, gamma=0 ..................................................\n",
        "[GridSearchCV] ......................... C=1.0, gamma=0, score=0.873333 -   0.0s"
       ]
      },
      {
       "output_type": "stream",
       "stream": "stdout",
       "text": [
        "\n"
       ]
      },
      {
       "output_type": "stream",
       "stream": "stderr",
       "text": [
        "[Parallel(n_jobs=1)]: Done  72 out of  72 | elapsed:    2.1s finished\n"
       ]
      },
      {
       "metadata": {},
       "output_type": "pyout",
       "prompt_number": 32,
       "text": [
        "GridSearchCV(cv=3,\n",
        "       estimator=SVC(C=1.0, cache_size=200, class_weight=None, coef0=0.0, degree=3, gamma=0.0,\n",
        "  kernel='poly', max_iter=-1, probability=False, random_state=None,\n",
        "  shrinking=True, tol=0.001, verbose=False),\n",
        "       fit_params={}, iid=True, loss_func=None, n_jobs=1,\n",
        "       param_grid={'C': array([  1.00000e+07,   1.00000e+06,   1.00000e+05,   1.00000e+04,\n",
        "         1.00000e+03,   1.00000e+02,   1.00000e+01,   1.00000e+00]), 'gamma': array([0, 0, 0])},\n",
        "       pre_dispatch='2*n_jobs', refit=True, score_func=None, scoring=None,\n",
        "       verbose=3)"
       ]
      }
     ],
     "prompt_number": 32
    },
    {
     "cell_type": "code",
     "collapsed": false,
     "input": [],
     "language": "python",
     "metadata": {},
     "outputs": []
    }
   ],
   "metadata": {}
  }
 ]
}