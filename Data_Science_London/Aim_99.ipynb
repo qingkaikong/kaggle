{
 "metadata": {
  "name": ""
 },
 "nbformat": 3,
 "nbformat_minor": 0,
 "worksheets": [
  {
   "cells": [
    {
     "cell_type": "code",
     "collapsed": false,
     "input": [
      "from numpy import genfromtxt\n",
      "import numpy as np\n",
      "import matplotlib.pyplot as plt"
     ],
     "language": "python",
     "metadata": {},
     "outputs": [],
     "prompt_number": 1
    },
    {
     "cell_type": "code",
     "collapsed": false,
     "input": [
      "def load_data(filename):\n",
      "    \"\"\" Load CSV into numpy array \"\"\"\n",
      "    return np.genfromtxt(open(filename,'rb'), delimiter=',')"
     ],
     "language": "python",
     "metadata": {},
     "outputs": [],
     "prompt_number": 2
    },
    {
     "cell_type": "code",
     "collapsed": false,
     "input": [
      "X = load_data('./data/train.csv')\n",
      "y = load_data('./data/trainLabels.csv')\n",
      "test = load_data('./data/test.csv')"
     ],
     "language": "python",
     "metadata": {},
     "outputs": [],
     "prompt_number": 3
    },
    {
     "cell_type": "markdown",
     "metadata": {},
     "source": [
      "##First try to see the 2 main components of the data"
     ]
    },
    {
     "cell_type": "code",
     "collapsed": false,
     "input": [
      "from sklearn.decomposition import PCA"
     ],
     "language": "python",
     "metadata": {},
     "outputs": [],
     "prompt_number": 4
    },
    {
     "cell_type": "code",
     "collapsed": false,
     "input": [
      "pca2 = PCA(n_components=2, whiten=True)\n",
      "pca2.fit(np.r_[X, test])\n",
      "X_pca = pca2.transform(X)\n",
      "i0 = np.argwhere(y == 0)[:, 0]\n",
      "i1 = np.argwhere(y == 1)[:, 0]\n",
      "X0 = X_pca[i0, :]\n",
      "X1 = X_pca[i1, :]\n",
      "plt.plot(X0[:, 0], X0[:, 1], 'ro')\n",
      "plt.plot(X1[:, 0], X1[:, 1], 'b*')\n",
      "plt.show()"
     ],
     "language": "python",
     "metadata": {},
     "outputs": [
      {
       "metadata": {},
       "output_type": "pyout",
       "prompt_number": 10,
       "text": [
        "[<matplotlib.lines.Line2D at 0x1111a9390>]"
       ]
      }
     ],
     "prompt_number": 10
    },
    {
     "cell_type": "markdown",
     "metadata": {},
     "source": [
      "##Let's see each feature explained how much variance"
     ]
    },
    {
     "cell_type": "code",
     "collapsed": false,
     "input": [
      "pca = PCA(whiten=True)\n",
      "X_all = pca.fit_transform(np.r_[X, test])\n",
      "print pca.explained_variance_ratio_"
     ],
     "language": "python",
     "metadata": {},
     "outputs": [
      {
       "output_type": "stream",
       "stream": "stdout",
       "text": [
        "[  2.61338893e-01   2.03953972e-01   7.91104009e-02   4.81480076e-02\n",
        "   4.54167442e-02   4.42563499e-02   4.04285747e-02   3.03524876e-02\n",
        "   2.35202947e-02   1.92164610e-02   1.61483800e-02   1.25565492e-02\n",
        "   7.65669101e-03   7.59267345e-03   7.57067587e-03   7.45196972e-03\n",
        "   7.39437803e-03   7.33602203e-03   7.32154020e-03   7.26446366e-03\n",
        "   7.24687802e-03   7.13785979e-03   7.08554112e-03   7.05759361e-03\n",
        "   7.01144882e-03   6.98357997e-03   6.90865448e-03   6.88494883e-03\n",
        "   6.84557325e-03   6.83367011e-03   6.74339150e-03   6.70112785e-03\n",
        "   6.63533428e-03   6.57374179e-03   6.49188079e-03   6.46379503e-03\n",
        "   6.35945185e-03   2.11189295e-31   3.63031139e-32   1.43643870e-32]\n"
       ]
      }
     ],
     "prompt_number": 13
    },
    {
     "cell_type": "code",
     "collapsed": false,
     "input": [
      "plt.plot(pca.explained_variance_ratio_)\n",
      "plt.show()"
     ],
     "language": "python",
     "metadata": {},
     "outputs": [],
     "prompt_number": 14
    },
    {
     "cell_type": "code",
     "collapsed": false,
     "input": [
      "##We can see from the above features, that the first 12 components explained most of the variance"
     ],
     "language": "python",
     "metadata": {},
     "outputs": [],
     "prompt_number": 15
    },
    {
     "cell_type": "markdown",
     "metadata": {},
     "source": [
      "##Now let's plot the KDE and QQ plots"
     ]
    },
    {
     "cell_type": "code",
     "collapsed": false,
     "input": [
      "def kde_plot(x):\n",
      "        from scipy.stats.kde import gaussian_kde\n",
      "        kde = gaussian_kde(x)\n",
      "        positions = np.linspace(x.min(), x.max())\n",
      "        smoothed = kde(positions)\n",
      "        plt.plot(positions, smoothed)\n",
      "        plt.show()\n",
      "\n",
      "def qq_plot(x):\n",
      "    from scipy.stats import probplot\n",
      "    probplot(x, dist='norm', plot=plt)\n",
      "    plt.show()"
     ],
     "language": "python",
     "metadata": {},
     "outputs": [],
     "prompt_number": 32
    },
    {
     "cell_type": "code",
     "collapsed": false,
     "input": [
      "kde_plot(X_all[:, 7])"
     ],
     "language": "python",
     "metadata": {},
     "outputs": [],
     "prompt_number": 24
    },
    {
     "cell_type": "code",
     "collapsed": false,
     "input": [
      "kde_plot(X_all[:, 23])"
     ],
     "language": "python",
     "metadata": {},
     "outputs": [],
     "prompt_number": 25
    },
    {
     "cell_type": "code",
     "collapsed": false,
     "input": [
      "kde_plot(X_all[:, 39])"
     ],
     "language": "python",
     "metadata": {},
     "outputs": [],
     "prompt_number": 30
    },
    {
     "cell_type": "markdown",
     "metadata": {},
     "source": [
      "##It does look like the features come from gaussian distribution. And then plot the QQ plot. In statistics, a Q\u2013Q plot (\"Q\" stands for quantile) is a probability plot, which is a graphical method for comparing two probability distributions by plotting their quantiles against each other"
     ]
    },
    {
     "cell_type": "code",
     "collapsed": false,
     "input": [
      "qq_plot(X[:,7])"
     ],
     "language": "python",
     "metadata": {},
     "outputs": [],
     "prompt_number": 33
    },
    {
     "cell_type": "code",
     "collapsed": false,
     "input": [
      "qq_plot(X[:,23])"
     ],
     "language": "python",
     "metadata": {},
     "outputs": [],
     "prompt_number": 34
    },
    {
     "cell_type": "code",
     "collapsed": false,
     "input": [
      "qq_plot(X[:,39])"
     ],
     "language": "python",
     "metadata": {},
     "outputs": [],
     "prompt_number": 35
    },
    {
     "cell_type": "markdown",
     "metadata": {},
     "source": [
      "##Use Gaussian mixture model to model the data"
     ]
    },
    {
     "cell_type": "code",
     "collapsed": false,
     "input": [
      "#You can see from the explained_variance plot, 12 is the best number to use\n",
      "pca_components = 12\n",
      "X_all = X_all[:, :pca_components]"
     ],
     "language": "python",
     "metadata": {},
     "outputs": [],
     "prompt_number": 36
    },
    {
     "cell_type": "code",
     "collapsed": false,
     "input": [
      "from sklearn.cross_validation import train_test_split\n",
      "from sklearn import mixture"
     ],
     "language": "python",
     "metadata": {},
     "outputs": [],
     "prompt_number": 40
    },
    {
     "cell_type": "code",
     "collapsed": false,
     "input": [
      "def divid_data(X_, y_):\n",
      "    #randomly divide the data into train and test set, the test size is 10% of the whole dataset\n",
      "    X_train, X_test, y_train, y_test = train_test_split(X_, y_, test_size=0.1)\n",
      "    return X_train, y_train, X_test, y_test"
     ],
     "language": "python",
     "metadata": {},
     "outputs": [],
     "prompt_number": 38
    },
    {
     "cell_type": "code",
     "collapsed": false,
     "input": [
      "clf = mixture.GMM(n_components=2, covariance_type='full')\n",
      "result = clf.fit(X_all)"
     ],
     "language": "python",
     "metadata": {},
     "outputs": [],
     "prompt_number": 42
    },
    {
     "cell_type": "code",
     "collapsed": false,
     "input": [
      "result."
     ],
     "language": "python",
     "metadata": {},
     "outputs": [
      {
       "metadata": {},
       "output_type": "pyout",
       "prompt_number": 44,
       "text": [
        "array([[ 0.0500219 , -0.21993853,  0.05021199, -0.17609406, -0.17896815,\n",
        "        -0.06683518, -0.15330949,  0.09348656, -0.13645366,  0.0041623 ,\n",
        "         0.05433736, -0.04179592],\n",
        "       [-0.14906289,  0.6554064 , -0.14962935,  0.52475196,  0.53331661,\n",
        "         0.19916567,  0.45685503, -0.27858554,  0.40662546, -0.01240346,\n",
        "        -0.16192275,  0.12454987]])"
       ]
      }
     ],
     "prompt_number": 44
    },
    {
     "cell_type": "code",
     "collapsed": false,
     "input": [
      "import pandas as pd\n",
      "from sklearn.decomposition.pca import PCA\n",
      "from sklearn.grid_search import GridSearchCV\n",
      "from sklearn.svm import SVC\n",
      "from sklearn.mixture import GMM\n",
      "from sklearn.base import BaseEstimator"
     ],
     "language": "python",
     "metadata": {},
     "outputs": [],
     "prompt_number": 46
    },
    {
     "cell_type": "code",
     "collapsed": false,
     "input": [
      "class PcaGmm(BaseEstimator):\n",
      "    def __init__(self, X_all,\n",
      "                 pca_components = 12, gmm_components = 4,\n",
      "                 covariance_type = \"full\", min_covar = 0.1,\n",
      "                 gamma = 0, C = 1.0):\n",
      "\n",
      "        self.pca_components = pca_components\n",
      "        self.gmm_components = gmm_components\n",
      "        self.covariance_type = covariance_type\n",
      "        self.min_covar = min_covar\n",
      "        self.gamma = gamma\n",
      "        self.C = C\n",
      "        self.X_all = X_all\n",
      "        X_all = X_all[:, :pca_components]\n",
      "        self.gmm = GMM(n_components = gmm_components,\n",
      "                       covariance_type = covariance_type,\n",
      "                       min_covar = min_covar)\n",
      "        self.gmm.fit(X_all)\n",
      "\n",
      "    def fit(self, X, y):\n",
      "        X = X[:, :self.pca_components]\n",
      "        X = self.gmm.predict_proba(X)\n",
      "        self.svm = SVC(C = self.C, gamma = self.gamma)\n",
      "        self.svm.fit(X, y)\n",
      "\n",
      "    def predict(self, X):\n",
      "        X = X[:, :self.pca_components]\n",
      "        return self.svm.predict(self.gmm.predict_proba(X))\n",
      "\n",
      "    def score(self, X, y):\n",
      "        y_pred = self.predict(X)\n",
      "        return accuracy_score(y, y_pred)\n",
      "\n",
      "    def transform(self, X, y = None):\n",
      "        X = X[:, :self.pca_components]\n",
      "        return self.gmm.predict_proba(X)\n",
      "\n",
      "    def __str__(self):\n",
      "        return \"PCA(%d)-GMM(%d, %s, %f)-SVM(C=%f, gamma=%f)\" % (self.pca_components, self.gmm_components,\n",
      "                                                                self.covariance_type, self.min_covar,\n",
      "                                                                self.C, self.gamma)\n"
     ],
     "language": "python",
     "metadata": {},
     "outputs": [],
     "prompt_number": 47
    },
    {
     "cell_type": "code",
     "collapsed": false,
     "input": [
      "clf = PcaGmm(X_all,\n",
      "            12, 4, 'full', 0, gamma = .6, C = 0.3)\n",
      "X_t = clf.transform(pca.transform(X))\n",
      "X0 = X_t[i0, :]\n",
      "X1 = X_t[i1, :]\n",
      "pca2 = PCA(n_components=2)\n",
      "pca2.fit(np.r_[X0, X1])\n",
      "X0 = pca2.transform(X0)\n",
      "X1 = pca2.transform(X1)\n",
      "plt.plot(X0[:, 0], X0[:, 1], 'ro')\n",
      "plt.plot(X1[:, 0], X1[:, 1], 'b*')"
     ],
     "language": "python",
     "metadata": {},
     "outputs": [
      {
       "metadata": {},
       "output_type": "pyout",
       "prompt_number": 48,
       "text": [
        "[<matplotlib.lines.Line2D at 0x116d68c90>]"
       ]
      }
     ],
     "prompt_number": 48
    },
    {
     "cell_type": "code",
     "collapsed": false,
     "input": [
      "plt.show()"
     ],
     "language": "python",
     "metadata": {},
     "outputs": [],
     "prompt_number": 49
    },
    {
     "cell_type": "code",
     "collapsed": false,
     "input": [
      "clf = PcaGmm(X_all,\n",
      "            12, 4, 'full', 0, gamma = .6, C = 0.3)"
     ],
     "language": "python",
     "metadata": {},
     "outputs": [],
     "prompt_number": 50
    },
    {
     "cell_type": "code",
     "collapsed": false,
     "input": [
      "clf"
     ],
     "language": "python",
     "metadata": {},
     "outputs": [
      {
       "metadata": {},
       "output_type": "pyout",
       "prompt_number": 51,
       "text": [
        "PcaGmm(C=0.3,\n",
        "    X_all=array([[ 0.90525, -0.73439, ...,  1.66483, -0.8987 ],\n",
        "       [-0.27226,  0.10795, ...,  0.47413,  1.10401],\n",
        "       ...,\n",
        "       [ 0.13331,  0.63677, ...,  0.38243,  0.75413],\n",
        "       [-1.18052, -1.61662, ...,  1.0584 ,  0.44022]]),\n",
        "    covariance_type='full', gamma=0.6, gmm_components=4, min_covar=0,\n",
        "    pca_components=12)"
       ]
      }
     ],
     "prompt_number": 51
    },
    {
     "cell_type": "code",
     "collapsed": false,
     "input": [
      "X_t = clf.transform(pca.transform(X))"
     ],
     "language": "python",
     "metadata": {},
     "outputs": [],
     "prompt_number": 52
    },
    {
     "cell_type": "code",
     "collapsed": false,
     "input": [
      "X_t"
     ],
     "language": "python",
     "metadata": {},
     "outputs": [
      {
       "metadata": {},
       "output_type": "pyout",
       "prompt_number": 53,
       "text": [
        "array([[  6.50188328e-288,   2.36730264e-063,   1.69985880e-026,\n",
        "          1.00000000e+000],\n",
        "       [  1.10085402e-018,   2.84889066e-052,   1.00000000e+000,\n",
        "          5.05509940e-040],\n",
        "       [  3.39984651e-013,   1.00000000e+000,   1.55435633e-146,\n",
        "          9.24290266e-092],\n",
        "       ..., \n",
        "       [  1.00000000e+000,   2.45153878e-048,   8.05246601e-049,\n",
        "          0.00000000e+000],\n",
        "       [  5.83734756e-096,   3.54108150e-046,   1.00000000e+000,\n",
        "          6.88334461e-021],\n",
        "       [  1.50854588e-003,   9.98491454e-001,   8.19003174e-018,\n",
        "          4.14734226e-106]])"
       ]
      }
     ],
     "prompt_number": 53
    },
    {
     "cell_type": "code",
     "collapsed": false,
     "input": [
      "X0 = X_t[i0, :]\n",
      "X1 = X_t[i1, :]"
     ],
     "language": "python",
     "metadata": {},
     "outputs": [],
     "prompt_number": 54
    },
    {
     "cell_type": "code",
     "collapsed": false,
     "input": [
      "X0"
     ],
     "language": "python",
     "metadata": {},
     "outputs": [
      {
       "metadata": {},
       "output_type": "pyout",
       "prompt_number": 55,
       "text": [
        "array([[  1.10085402e-018,   2.84889066e-052,   1.00000000e+000,\n",
        "          5.05509940e-040],\n",
        "       [  3.39984651e-013,   1.00000000e+000,   1.55435633e-146,\n",
        "          9.24290266e-092],\n",
        "       [  2.32875082e-023,   1.00000000e+000,   1.12964998e-093,\n",
        "          1.29942589e-027],\n",
        "       ..., \n",
        "       [  5.02555298e-006,   1.92770543e-031,   9.99994949e-001,\n",
        "          2.51723673e-008],\n",
        "       [  5.83734756e-096,   3.54108150e-046,   1.00000000e+000,\n",
        "          6.88334461e-021],\n",
        "       [  1.50854588e-003,   9.98491454e-001,   8.19003174e-018,\n",
        "          4.14734226e-106]])"
       ]
      }
     ],
     "prompt_number": 55
    },
    {
     "cell_type": "code",
     "collapsed": false,
     "input": [],
     "language": "python",
     "metadata": {},
     "outputs": []
    }
   ],
   "metadata": {}
  }
 ]
}